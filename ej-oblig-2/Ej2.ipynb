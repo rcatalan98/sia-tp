{
 "cells": [
  {
   "cell_type": "code",
   "execution_count": 8,
   "outputs": [],
   "source": [
    "import pandas\n",
    "\n",
    "file_name = 'europe.csv'\n",
    "# data = pandas.read_csv(file_name)\n",
    "#\n",
    "# country_list = data[\"Country\"].tolist()\n",
    "# area_list = data[\"Area\"].tolist()\n",
    "# gdp_list = data[\"GDP\"].tolist()\n",
    "# inflation_list = data[\"Inflation\"].tolist()\n",
    "# life_expect_list = data[\"Life.expect\"].tolist()\n",
    "# military_list = data[\"Military\"].tolist()\n",
    "# pop_growth_list = data[\"Pop.growth\"].tolist()\n",
    "# unemployment_list = data[\"Unemployment\"].tolist()\n",
    "\n",
    "feature_names = [\"Area\",\"GDP\",\"Inflation\",\"Life.expect\",\"Military\",\"Pop.growth\",\"Unemployment\"] # without country\n",
    "data = pandas.read_csv(file_name)\n",
    "\n",
    "# feature_sets = data.drop('Country', 1)\n",
    "# labels = data['Country']\n",
    "\n",
    "\n",
    "print()"
   ],
   "metadata": {
    "collapsed": false,
    "pycharm": {
     "name": "#%%\n"
    }
   }
  },
  {
   "cell_type": "code",
   "execution_count": 2,
   "outputs": [
    {
     "name": "stdout",
     "output_type": "stream",
     "text": [
      "ee\n"
     ]
    }
   ],
   "source": [
    "from sklearn.decomposition import PCA\n",
    "from sklearn.preprocessing import StandardScaler\n",
    "\n",
    "# construct a dataframe using pandas\n",
    "df = pandas.DataFrame(data['data'], columns='feature_names')    # TODO: data?\n",
    "\n",
    "# Scale data before applying PCA\n",
    "standard_scaler = StandardScaler()\n",
    "\n",
    "standard_scaler.fit(df)\n",
    "scaled_data = standard_scaler.transform(df)\n",
    "\n",
    "pca = PCA(n_components=1)\n",
    "pca.fit(scaled_data)\n",
    "x = pca.transform(scaled_data)\n",
    "\n",
    "# Check the dimensions of data after PCA\n",
    "print(x.shape)\n",
    "pca.components_"
   ],
   "metadata": {
    "collapsed": false,
    "pycharm": {
     "name": "#%%\n"
    }
   }
  }
 ],
 "metadata": {
  "kernelspec": {
   "display_name": "Python 3",
   "language": "python",
   "name": "python3"
  },
  "language_info": {
   "codemirror_mode": {
    "name": "ipython",
    "version": 2
   },
   "file_extension": ".py",
   "mimetype": "text/x-python",
   "name": "python",
   "nbconvert_exporter": "python",
   "pygments_lexer": "ipython2",
   "version": "2.7.6"
  }
 },
 "nbformat": 4,
 "nbformat_minor": 0
}
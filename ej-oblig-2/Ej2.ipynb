{
 "cells": [
  {
   "cell_type": "code",
   "execution_count": 1,
   "outputs": [
    {
     "name": "stdout",
     "output_type": "stream",
     "text": [
      "\n"
     ]
    }
   ],
   "source": [
    "import pandas\n",
    "\n",
    "file_name = 'europe.csv'\n",
    "# data = pandas.read_csv(file_name)\n",
    "#\n",
    "# country_list = data[\"Country\"].tolist()\n",
    "# area_list = data[\"Area\"].tolist()\n",
    "# gdp_list = data[\"GDP\"].tolist()\n",
    "# inflation_list = data[\"Inflation\"].tolist()\n",
    "# life_expect_list = data[\"Life.expect\"].tolist()\n",
    "# military_list = data[\"Military\"].tolist()\n",
    "# pop_growth_list = data[\"Pop.growth\"].tolist()\n",
    "# unemployment_list = data[\"Unemployment\"].tolist()\n",
    "\n",
    "feature_names = [\"Area\",\"GDP\",\"Inflation\",\"Life.expect\",\"Military\",\"Pop.growth\",\"Unemployment\"] # without country\n",
    "data = pandas.read_csv(file_name)\n",
    "\n",
    "# feature_sets = data.drop('Country', 1)\n",
    "# labels = data['Country']\n",
    "\n",
    "\n",
    "print()"
   ],
   "metadata": {
    "collapsed": false,
    "pycharm": {
     "name": "#%%\n"
    }
   }
  },
  {
   "cell_type": "code",
   "execution_count": 2,
   "outputs": [
    {
     "name": "stdout",
     "output_type": "stream",
     "text": [
      "ee\n"
     ]
    }
   ],
   "source": [
    "from sklearn.decomposition import PCA\n",
    "from sklearn.preprocessing import StandardScaler\n",
    "\n",
    "# Construct a dataframe using pandas\n",
    "# FIXME: sera necesario un dataframe?\n",
    "df = pandas.DataFrame(data['data'], columns='feature_names')    # TODO: data?\n",
    "\n",
    "# Scale data before applying PCA\n",
    "standard_scaler = StandardScaler()\n",
    "\n",
    "standard_scaler.fit(df)\n",
    "scaled_data = standard_scaler.transform(df)\n",
    "\n",
    "pca = PCA(n_components=1)\n",
    "pca.fit(scaled_data)\n",
    "x = pca.transform(scaled_data)\n",
    "\n",
    "# Check the dimensions of data after PCA\n",
    "print(x.shape)\n",
    "\n",
    "# Check the values of eigen vectors produced by principal components\n",
    "print(pca.components_)\n",
    "\n",
    "# Check how much variance is explained by each principal component\n",
    "print(pca.explained_variance_ratio_)"
   ],
   "metadata": {
    "collapsed": false,
    "pycharm": {
     "name": "#%%\n"
    }
   }
  },
  {
   "cell_type": "code",
   "execution_count": 4,
   "outputs": [
    {
     "name": "stdout",
     "output_type": "stream",
     "text": [
      "['malignant' 'benign']\n",
      "['mean radius' 'mean texture' 'mean perimeter' 'mean area'\n",
      " 'mean smoothness' 'mean compactness' 'mean concavity'\n",
      " 'mean concave points' 'mean symmetry' 'mean fractal dimension'\n",
      " 'radius error' 'texture error' 'perimeter error' 'area error'\n",
      " 'smoothness error' 'compactness error' 'concavity error'\n",
      " 'concave points error' 'symmetry error' 'fractal dimension error'\n",
      " 'worst radius' 'worst texture' 'worst perimeter' 'worst area'\n",
      " 'worst smoothness' 'worst compactness' 'worst concavity'\n",
      " 'worst concave points' 'worst symmetry' 'worst fractal dimension']\n"
     ]
    }
   ],
   "source": [
    "# TODO: DELETE\n",
    "\n",
    "# Example from\n",
    "# https://www.geeksforgeeks.org/implementing-pca-in-python-with-scikit-learn/\n",
    "\n",
    "# import all libraries\n",
    "import pandas as pd\n",
    "import numpy as np\n",
    "import matplotlib.pyplot as plt\n",
    "%matplotlib inline\n",
    "from sklearn.decomposition import PCA\n",
    "from sklearn.preprocessing import StandardScaler\n",
    "\n",
    "#import the breast _cancer dataset\n",
    "from sklearn.datasets import load_breast_cancer\n",
    "data=load_breast_cancer()\n",
    "data.keys()\n",
    "\n",
    "# Check the output classes\n",
    "print(data['target_names'])\n",
    "\n",
    "# Check the input attributes\n",
    "print(data['feature_names'])\n",
    "\n",
    "# construct a dataframe using pandas\n",
    "df1=pd.DataFrame(data['data'],columns=data['feature_names'])\n",
    "\n",
    "# Scale data before applying PCA\n",
    "scaling=StandardScaler()\n",
    "\n",
    "# Use fit and transform method\n",
    "scaling.fit(df1)\n",
    "Scaled_data=scaling.transform(df1)\n",
    "\n",
    "# Set the n_components=3\n",
    "principal=PCA(n_components=3)\n",
    "principal.fit(Scaled_data)\n",
    "x=principal.transform(Scaled_data)\n",
    "\n",
    "# Check the dimensions of data after PCA\n",
    "print(x.shape)\n",
    "\n",
    "# Check the values of eigen vectors\n",
    "# produced by principal components\n",
    "print(principal.components_)\n",
    "\n",
    "# plot the components\n",
    "plt.figure(figsize=(10,10))\n",
    "plt.scatter(x[:,0],x[:,1],c=data['target'],cmap='plasma')\n",
    "plt.xlabel('pc1')\n",
    "plt.ylabel('pc2')\n",
    "\n",
    "# check how much variance is explained by each principal component\n",
    "print(principal.explained_variance_ratio_)"
   ],
   "metadata": {
    "collapsed": false,
    "pycharm": {
     "name": "#%%\n"
    }
   }
  }
 ],
 "metadata": {
  "kernelspec": {
   "display_name": "Python 3",
   "language": "python",
   "name": "python3"
  },
  "language_info": {
   "codemirror_mode": {
    "name": "ipython",
    "version": 2
   },
   "file_extension": ".py",
   "mimetype": "text/x-python",
   "name": "python",
   "nbconvert_exporter": "python",
   "pygments_lexer": "ipython2",
   "version": "2.7.6"
  }
 },
 "nbformat": 4,
 "nbformat_minor": 0
}
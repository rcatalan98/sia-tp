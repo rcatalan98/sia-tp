{
 "cells": [
  {
   "cell_type": "code",
   "execution_count": 476,
   "metadata": {
    "collapsed": true
   },
   "outputs": [
    {
     "name": "stdout",
     "output_type": "stream",
     "text": [
      "The autoreload extension is already loaded. To reload it, use:\n",
      "  %reload_ext autoreload\n"
     ]
    }
   ],
   "source": [
    "import numpy as np\n",
    "%config InlineBackend.figure_format = 'retina'\n",
    "%load_ext autoreload\n",
    "%autoreload 2\n",
    "from test_fonts import *\n",
    "from NeuralNetwork import  *\n",
    "from time import perf_counter\n",
    "from Utils import create_noise"
   ]
  },
  {
   "cell_type": "markdown",
   "source": [
    "## Loading Dataset"
   ],
   "metadata": {
    "collapsed": false,
    "pycharm": {
     "name": "#%% md\n"
    }
   }
  },
  {
   "cell_type": "code",
   "execution_count": 659,
   "outputs": [],
   "source": [
    "fonts = get_all_fonts(2,True)\n",
    "font_count = len(fonts)"
   ],
   "metadata": {
    "collapsed": false,
    "pycharm": {
     "name": "#%%\n"
    }
   }
  },
  {
   "cell_type": "code",
   "execution_count": 660,
   "outputs": [],
   "source": [
    "beta = 0.5\n",
    "\n",
    "sigmoid = lambda e: 1 / (1 + np.exp(-e * 2 * beta))\n",
    "sigmoid_derived = lambda e: 2 * beta * sigmoid(e) * (1 - sigmoid(e))\n",
    "\n",
    "tanh = lambda e: math.tanh(e)\n",
    "tanh_derived = lambda  e: 1- math.tanh(e)**2\n",
    "\n",
    "\n",
    "\n",
    "def activation(e):\n",
    "    return tanh(e)\n",
    "\n",
    "def derivative(e):\n",
    "    return tanh_derived(e)"
   ],
   "metadata": {
    "collapsed": false,
    "pycharm": {
     "name": "#%%\n"
    }
   }
  },
  {
   "cell_type": "code",
   "execution_count": 661,
   "outputs": [],
   "source": [
    "nn = NNBuilder\\\n",
    "        .with_input(7*5)\\\n",
    "        .with_hidden_layer(30,activation,derivative)\\\n",
    "        .with_hidden_layer(20,activation,derivative)\\\n",
    "        .with_hidden_layer(10,activation,derivative)\\\n",
    "        .with_hidden_layer(5,activation,derivative)\\\n",
    "        .with_hidden_layer(10,activation,derivative)\\\n",
    "        .with_hidden_layer(20,activation,derivative)\\\n",
    "        .with_hidden_layer(30,activation,derivative)\\\n",
    "        .with_output_layer(7*5,activation,derivative)"
   ],
   "metadata": {
    "collapsed": false,
    "pycharm": {
     "name": "#%%\n"
    }
   }
  },
  {
   "cell_type": "code",
   "execution_count": 662,
   "outputs": [
    {
     "name": "stdout",
     "output_type": "stream",
     "text": [
      "true fonts:\n",
      "None\n"
     ]
    },
    {
     "data": {
      "text/plain": "<Figure size 432x288 with 1 Axes>",
      "image/png": "[encoded data removed]"
     },
     "metadata": {
      "image/png": {
       "width": 186,
       "height": 248
      },
      "needs_background": "light"
     },
     "output_type": "display_data"
    }
   ],
   "source": [
    "from copy import deepcopy\n",
    "\n",
    "training = np.array(fonts[:5])\n",
    "# mutate_training = deepcopy(training)\n",
    "print('true fonts:')\n",
    "print(print_character(training[0].reshape(7,5)))"
   ],
   "metadata": {
    "collapsed": false,
    "pycharm": {
     "name": "#%%\n"
    }
   }
  },
  {
   "cell_type": "code",
   "execution_count": 663,
   "outputs": [
    {
     "name": "stdout",
     "output_type": "stream",
     "text": [
      "#########\n",
      "[array([0, 1, 1, 0, 0, 1, 0, 0, 0, 1, 1, 0, 1, 1, 1, 1, 0, 1, 0, 1, 1, 0,\n",
      "       1, 1, 1, 1, 0, 0, 0, 0, 0, 1, 1, 1, 1]), array([0, 1, 1, 1, 0, 1, 0, 0, 0, 1, 1, 0, 0, 0, 0, 1, 0, 0, 1, 0, 1, 0,\n",
      "       0, 0, 0, 1, 1, 0, 0, 1, 0, 1, 1, 1, 0]), array([0, 1, 1, 1, 0, 1, 0, 0, 0, 1, 1, 0, 0, 0, 0, 1, 0, 0, 0, 0, 1, 0,\n",
      "       0, 0, 1, 1, 0, 0, 0, 1, 0, 1, 1, 1, 1]), array([0, 1, 1, 1, 0, 1, 0, 1, 0, 1, 1, 0, 0, 0, 1, 1, 1, 1, 0, 1, 1, 0,\n",
      "       0, 0, 1, 1, 0, 0, 0, 1, 0, 1, 1, 1, 0]), array([0, 1, 1, 1, 0, 1, 0, 0, 0, 1, 1, 0, 0, 0, 1, 1, 0, 0, 0, 1, 1, 0,\n",
      "       1, 0, 1, 1, 0, 0, 1, 0, 0, 1, 1, 0, 1]), array([0, 1, 1, 1, 0, 1, 0, 0, 0, 1, 1, 0, 1, 1, 1, 1, 0, 1, 0, 1, 1, 0,\n",
      "       1, 1, 1, 1, 0, 0, 0, 1, 0, 1, 1, 1, 0]), array([1, 1, 1, 1, 0, 1, 0, 0, 0, 1, 1, 0, 0, 0, 0, 1, 0, 0, 0, 0, 1, 0,\n",
      "       0, 0, 0, 1, 0, 0, 0, 1, 0, 1, 1, 1, 0]), array([0, 1, 1, 0, 0, 1, 0, 0, 0, 1, 1, 0, 0, 0, 0, 1, 0, 0, 0, 0, 1, 0,\n",
      "       0, 1, 1, 1, 0, 1, 0, 1, 0, 1, 1, 1, 1]), array([0, 1, 1, 1, 0, 1, 0, 0, 0, 1, 1, 0, 0, 0, 1, 1, 0, 0, 0, 1, 1, 0,\n",
      "       0, 0, 1, 1, 0, 0, 0, 1, 0, 1, 1, 1, 0]), array([0, 1, 1, 1, 0, 1, 1, 0, 0, 1, 1, 0, 0, 0, 1, 1, 0, 0, 0, 1, 1, 0,\n",
      "       1, 0, 1, 1, 0, 0, 1, 0, 0, 1, 1, 0, 1]), array([0, 1, 1, 1, 0, 1, 0, 0, 0, 1, 1, 0, 1, 1, 1, 1, 0, 1, 0, 1, 1, 0,\n",
      "       1, 1, 1, 1, 0, 0, 0, 0, 0, 1, 1, 1, 1]), array([0, 1, 1, 1, 0, 1, 0, 0, 0, 1, 1, 0, 0, 0, 0, 1, 0, 0, 0, 0, 1, 0,\n",
      "       0, 0, 0, 1, 0, 0, 0, 1, 0, 1, 1, 1, 0]), array([0, 1, 1, 1, 0, 1, 0, 0, 0, 1, 1, 0, 0, 0, 0, 1, 0, 0, 0, 0, 1, 0,\n",
      "       0, 1, 1, 1, 0, 0, 0, 1, 0, 1, 1, 1, 1]), array([0, 1, 1, 1, 0, 1, 0, 0, 1, 1, 1, 0, 0, 0, 1, 1, 0, 0, 0, 1, 1, 0,\n",
      "       0, 0, 1, 1, 0, 0, 0, 0, 0, 1, 1, 1, 0]), array([0, 1, 1, 1, 0, 1, 0, 0, 0, 1, 1, 0, 0, 0, 1, 1, 0, 0, 0, 1, 1, 0,\n",
      "       1, 0, 1, 1, 0, 0, 1, 0, 0, 1, 1, 0, 1]), array([0, 1, 1, 1, 0, 1, 0, 0, 0, 1, 1, 0, 1, 1, 1, 1, 0, 1, 0, 1, 1, 0,\n",
      "       1, 1, 1, 1, 0, 0, 0, 0, 0, 1, 1, 1, 1]), array([0, 1, 1, 1, 0, 1, 0, 0, 0, 1, 1, 0, 0, 0, 0, 1, 0, 0, 0, 0, 1, 0,\n",
      "       0, 0, 0, 1, 0, 0, 0, 1, 0, 1, 1, 1, 0]), array([0, 1, 1, 1, 0, 1, 0, 0, 0, 1, 1, 0, 0, 0, 0, 1, 0, 0, 0, 0, 1, 0,\n",
      "       0, 1, 1, 1, 0, 0, 0, 1, 0, 1, 1, 1, 1]), array([0, 1, 1, 1, 0, 1, 0, 0, 0, 1, 1, 0, 0, 0, 1, 1, 0, 0, 0, 1, 1, 0,\n",
      "       0, 0, 1, 1, 0, 0, 0, 1, 0, 1, 1, 1, 0]), array([0, 1, 1, 1, 0, 1, 0, 0, 0, 1, 1, 0, 0, 0, 1, 1, 0, 0, 0, 1, 1, 0,\n",
      "       1, 0, 1, 1, 0, 0, 1, 0, 0, 1, 1, 0, 1]), array([0, 1, 1, 1, 0, 1, 0, 0, 0, 1, 1, 0, 1, 1, 1, 1, 0, 1, 0, 1, 1, 0,\n",
      "       1, 1, 1, 1, 0, 0, 0, 0, 0, 1, 1, 1, 1]), array([0, 1, 1, 1, 0, 1, 0, 0, 0, 1, 1, 0, 0, 0, 0, 1, 0, 0, 0, 0, 1, 0,\n",
      "       0, 0, 0, 1, 0, 0, 0, 1, 0, 1, 1, 1, 0]), array([0, 1, 1, 1, 0, 1, 0, 0, 0, 1, 1, 0, 0, 0, 0, 1, 0, 0, 0, 0, 1, 0,\n",
      "       0, 1, 1, 1, 0, 0, 0, 1, 0, 1, 1, 1, 1]), array([0, 1, 1, 1, 0, 1, 0, 0, 0, 1, 1, 0, 0, 0, 1, 1, 0, 0, 0, 1, 1, 0,\n",
      "       0, 0, 1, 1, 0, 0, 0, 1, 0, 1, 1, 1, 0]), array([0, 1, 1, 1, 0, 1, 0, 0, 0, 1, 1, 0, 0, 0, 1, 1, 0, 0, 0, 1, 1, 0,\n",
      "       1, 0, 1, 1, 0, 0, 1, 0, 0, 1, 1, 0, 1]), array([0, 1, 1, 1, 0, 1, 0, 0, 0, 1, 1, 0, 1, 1, 1, 1, 0, 1, 0, 1, 1, 0,\n",
      "       1, 1, 1, 1, 0, 0, 0, 0, 0, 1, 1, 1, 1]), array([0, 1, 1, 1, 0, 1, 0, 0, 0, 1, 1, 0, 0, 0, 0, 1, 0, 0, 0, 0, 1, 0,\n",
      "       0, 0, 0, 1, 0, 1, 0, 1, 0, 1, 1, 1, 0]), array([0, 1, 1, 1, 0, 1, 0, 0, 0, 1, 1, 0, 0, 0, 0, 1, 0, 0, 0, 0, 1, 0,\n",
      "       0, 1, 1, 1, 0, 0, 0, 1, 0, 1, 1, 1, 1]), array([0, 1, 1, 1, 0, 1, 0, 0, 0, 1, 1, 0, 0, 0, 1, 1, 0, 0, 0, 1, 1, 0,\n",
      "       0, 0, 1, 1, 0, 0, 0, 1, 0, 1, 1, 1, 0]), array([0, 1, 1, 1, 0, 1, 0, 0, 0, 1, 1, 0, 0, 0, 1, 1, 0, 0, 0, 1, 1, 0,\n",
      "       1, 0, 1, 1, 0, 0, 1, 0, 0, 1, 1, 0, 1]), array([0, 1, 1, 1, 0, 1, 0, 0, 0, 1, 1, 0, 1, 1, 1, 1, 0, 1, 0, 1, 1, 0,\n",
      "       1, 1, 1, 0, 0, 0, 0, 0, 0, 1, 1, 1, 1]), array([0, 1, 1, 1, 0, 1, 0, 0, 0, 1, 1, 0, 0, 0, 0, 1, 0, 0, 0, 0, 1, 0,\n",
      "       0, 0, 0, 1, 0, 0, 0, 1, 0, 1, 1, 1, 0]), array([0, 1, 1, 1, 0, 1, 0, 0, 0, 1, 1, 0, 0, 0, 0, 1, 0, 0, 0, 0, 1, 0,\n",
      "       0, 1, 1, 1, 0, 0, 0, 1, 0, 1, 1, 1, 1]), array([0, 1, 1, 1, 0, 1, 0, 0, 0, 1, 0, 0, 0, 0, 1, 1, 0, 0, 0, 1, 1, 0,\n",
      "       0, 0, 1, 1, 0, 0, 0, 1, 0, 1, 1, 1, 0]), array([0, 1, 1, 1, 0, 1, 0, 0, 0, 1, 1, 0, 0, 0, 1, 1, 0, 0, 0, 1, 1, 0,\n",
      "       1, 0, 1, 1, 0, 0, 1, 0, 0, 1, 1, 0, 1]), array([0, 1, 1, 1, 0, 1, 0, 0, 0, 1, 1, 0, 1, 1, 1, 1, 0, 1, 0, 1, 1, 0,\n",
      "       1, 1, 1, 1, 0, 0, 0, 0, 0, 1, 1, 1, 1]), array([0, 1, 1, 1, 0, 1, 0, 0, 0, 1, 1, 0, 0, 0, 0, 1, 0, 0, 0, 0, 1, 0,\n",
      "       0, 0, 0, 1, 0, 0, 0, 1, 0, 1, 1, 1, 0]), array([0, 1, 1, 1, 0, 1, 0, 0, 0, 1, 1, 0, 0, 0, 0, 1, 0, 0, 0, 0, 1, 0,\n",
      "       0, 1, 1, 1, 0, 0, 0, 1, 0, 1, 1, 1, 1]), array([0, 1, 1, 1, 0, 1, 0, 0, 0, 1, 1, 0, 0, 0, 1, 1, 0, 0, 0, 1, 1, 0,\n",
      "       0, 0, 1, 1, 0, 0, 0, 1, 0, 1, 1, 1, 0]), array([0, 1, 1, 1, 0, 1, 0, 0, 0, 1, 1, 0, 0, 1, 1, 1, 0, 0, 0, 1, 1, 0,\n",
      "       1, 0, 1, 1, 0, 0, 1, 0, 0, 1, 1, 0, 1]), array([0, 1, 1, 1, 0, 1, 0, 0, 0, 1, 1, 0, 1, 1, 1, 1, 0, 1, 0, 1, 1, 0,\n",
      "       1, 1, 1, 1, 0, 0, 0, 0, 0, 1, 1, 1, 1]), array([0, 1, 1, 1, 0, 1, 0, 0, 0, 1, 1, 0, 0, 0, 0, 1, 0, 0, 0, 0, 1, 0,\n",
      "       0, 0, 0, 1, 0, 0, 0, 1, 0, 1, 1, 1, 0]), array([0, 1, 1, 1, 0, 1, 0, 0, 0, 1, 1, 0, 0, 0, 0, 1, 0, 0, 1, 0, 1, 0,\n",
      "       0, 1, 1, 1, 0, 0, 0, 1, 0, 1, 1, 1, 1]), array([0, 1, 1, 1, 0, 1, 0, 0, 0, 1, 1, 0, 0, 0, 1, 1, 0, 0, 0, 1, 1, 0,\n",
      "       0, 0, 1, 1, 0, 0, 0, 1, 0, 1, 1, 1, 0]), array([0, 1, 1, 1, 0, 1, 0, 0, 1, 1, 1, 0, 0, 1, 1, 1, 0, 0, 0, 1, 1, 0,\n",
      "       1, 0, 1, 1, 0, 0, 1, 0, 0, 1, 1, 0, 1]), array([0, 1, 1, 1, 0, 1, 0, 0, 0, 1, 1, 0, 1, 1, 1, 1, 0, 1, 0, 1, 1, 0,\n",
      "       1, 1, 1, 1, 0, 0, 0, 0, 0, 1, 1, 1, 1]), array([0, 1, 1, 1, 0, 1, 0, 0, 0, 1, 1, 0, 0, 0, 0, 0, 0, 0, 0, 0, 1, 0,\n",
      "       0, 0, 0, 1, 0, 0, 0, 1, 0, 1, 1, 1, 0]), array([0, 1, 1, 1, 0, 1, 0, 0, 0, 1, 1, 0, 0, 0, 0, 1, 0, 0, 0, 0, 1, 0,\n",
      "       0, 1, 1, 1, 0, 1, 0, 1, 0, 1, 1, 1, 1]), array([0, 1, 1, 1, 0, 1, 0, 0, 0, 1, 1, 0, 0, 0, 1, 1, 0, 0, 0, 1, 1, 0,\n",
      "       0, 0, 1, 1, 0, 0, 0, 1, 0, 1, 1, 1, 0]), array([0, 1, 1, 1, 0, 1, 0, 0, 0, 1, 1, 0, 0, 0, 1, 1, 0, 0, 0, 1, 1, 0,\n",
      "       1, 0, 1, 1, 0, 0, 1, 0, 0, 1, 1, 0, 1])]\n",
      "None\n"
     ]
    },
    {
     "data": {
      "text/plain": "<Figure size 432x288 with 1 Axes>",
      "image/png": "[encoded data removed]"
     },
     "metadata": {
      "image/png": {
       "width": 186,
       "height": 248
      },
      "needs_background": "light"
     },
     "output_type": "display_data"
    }
   ],
   "source": [
    "\n",
    "print('#########')\n",
    "# pr = 0.9\n",
    "# for j in range(0,len(mutate_training)):\n",
    "#     for i in range(0,len(mutate_training[j])):\n",
    "#         noise = np.random.uniform(0,1)\n",
    "#         r = np.random.uniform(0,1)\n",
    "#         print(noise)\n",
    "#         print(f'Before i:{i} font[i]:{mutate_training[j][i]}')\n",
    "#         mutate_training[j][i] += noise\n",
    "#         print(f'After i:{i} font[i]:{mutate_training[j][i]}')\n",
    "data = []\n",
    "mutants = []\n",
    "for i in range (0,10):\n",
    "    mutants.extend(create_noise(training,0.02))\n",
    "    data.extend(training)\n",
    "print(mutants)\n",
    "print(print_character(mutants[0].reshape(7,5)))\n"
   ],
   "metadata": {
    "collapsed": false,
    "pycharm": {
     "name": "#%%\n"
    }
   }
  },
  {
   "cell_type": "code",
   "execution_count": 664,
   "outputs": [
    {
     "name": "stdout",
     "output_type": "stream",
     "text": [
      "None\n"
     ]
    },
    {
     "data": {
      "text/plain": "<Figure size 432x288 with 1 Axes>",
      "image/png": "[encoded data removed]"
     },
     "metadata": {
      "image/png": {
       "width": 186,
       "height": 248
      },
      "needs_background": "light"
     },
     "output_type": "display_data"
    }
   ],
   "source": [
    "print(print_character(training[2].reshape(7,5)))"
   ],
   "metadata": {
    "collapsed": false,
    "pycharm": {
     "name": "#%%\n"
    }
   }
  },
  {
   "cell_type": "code",
   "execution_count": 665,
   "outputs": [
    {
     "name": "stdout",
     "output_type": "stream",
     "text": [
      "None\n"
     ]
    },
    {
     "data": {
      "text/plain": "<Figure size 432x288 with 1 Axes>",
      "image/png": "[encoded data removed]"
     },
     "metadata": {
      "image/png": {
       "width": 186,
       "height": 248
      },
      "needs_background": "light"
     },
     "output_type": "display_data"
    }
   ],
   "source": [
    "print(print_character(mutants[4].reshape(7,5)))"
   ],
   "metadata": {
    "collapsed": false,
    "pycharm": {
     "name": "#%%\n"
    }
   }
  },
  {
   "cell_type": "code",
   "execution_count": 666,
   "outputs": [
    {
     "name": "stdout",
     "output_type": "stream",
     "text": [
      "Warning: Maximum number of iterations has been exceeded.\n",
      "0.41799729536472646\n",
      "execution time: 2932.905353957998 s\n"
     ]
    }
   ],
   "source": [
    "t0 = perf_counter()\n",
    "training_errors, ws = nn.train_on_dataset(mutants, data, 20)\n",
    "tf = perf_counter()\n",
    "print(training_errors)\n",
    "print(f'execution time: {tf-t0} s')"
   ],
   "metadata": {
    "collapsed": false,
    "pycharm": {
     "name": "#%%\n"
    }
   }
  },
  {
   "cell_type": "code",
   "execution_count": 765,
   "outputs": [],
   "source": [
    "mutate_training = create_noise(training,0.02)"
   ],
   "metadata": {
    "collapsed": false,
    "pycharm": {
     "name": "#%%\n"
    }
   }
  },
  {
   "cell_type": "code",
   "execution_count": 766,
   "outputs": [
    {
     "name": "stdout",
     "output_type": "stream",
     "text": [
      "None\n"
     ]
    },
    {
     "data": {
      "text/plain": "<Figure size 432x288 with 1 Axes>",
      "image/png": "[encoded data removed]"
     },
     "metadata": {
      "image/png": {
       "width": 186,
       "height": 248
      },
      "needs_background": "light"
     },
     "output_type": "display_data"
    }
   ],
   "source": [
    "aa = training[2]\n",
    "am = mutate_training[0]\n",
    "value = nn.feed_forward(am)\n",
    "print(print_character(am.reshape(7,5)))"
   ],
   "metadata": {
    "collapsed": false,
    "pycharm": {
     "name": "#%%\n"
    }
   }
  },
  {
   "cell_type": "code",
   "execution_count": 767,
   "outputs": [
    {
     "name": "stdout",
     "output_type": "stream",
     "text": [
      "None\n"
     ]
    },
    {
     "data": {
      "text/plain": "<Figure size 432x288 with 1 Axes>",
      "image/png": "[encoded data removed]"
     },
     "metadata": {
      "image/png": {
       "width": 186,
       "height": 248
      },
      "needs_background": "light"
     },
     "output_type": "display_data"
    }
   ],
   "source": [
    "print(print_character(value.reshape(7,5)))"
   ],
   "metadata": {
    "collapsed": false,
    "pycharm": {
     "name": "#%%\n"
    }
   }
  },
  {
   "cell_type": "code",
   "execution_count": 127,
   "outputs": [
    {
     "name": "stdout",
     "output_type": "stream",
     "text": [
      "\n",
      " 0:\n",
      "Warning: Maximum number of iterations has been exceeded.\n",
      "execution time: 56.63029449999976 s\n",
      "training error: 0.09901865907086098\n",
      "\n",
      " 1:\n",
      "Warning: Maximum number of iterations has been exceeded.\n",
      "execution time: 53.966569041000184 s\n",
      "training error: 0.19348075599630715\n",
      "\n",
      " 2:\n",
      "Warning: Maximum number of iterations has been exceeded.\n",
      "execution time: 53.571693083000355 s\n",
      "training error: 0.11483140102670542\n",
      "\n",
      " 3:\n",
      "Warning: Maximum number of iterations has been exceeded.\n",
      "execution time: 57.18984712499969 s\n",
      "training error: 0.17625849423567094\n",
      "\n",
      " 4:\n",
      "Warning: Maximum number of iterations has been exceeded.\n",
      "execution time: 53.49495987499995 s\n",
      "training error: 0.11426747933708514\n",
      "\n",
      " 5:\n",
      "Warning: Maximum number of iterations has been exceeded.\n",
      "execution time: 55.88063337499989 s\n",
      "training error: 0.03017355793703716\n",
      "\n",
      " 6:\n",
      "Warning: Maximum number of iterations has been exceeded.\n",
      "execution time: 58.045499167000344 s\n",
      "training error: 0.14015109266377648\n",
      "\n",
      " 7:\n",
      "Warning: Maximum number of iterations has been exceeded.\n",
      "execution time: 55.78682024999944 s\n",
      "training error: 0.0258419333375745\n",
      "\n",
      " 8:\n",
      "Warning: Maximum number of iterations has been exceeded.\n",
      "execution time: 57.603972040999906 s\n",
      "training error: 0.1181469459848495\n",
      "\n",
      " 9:\n",
      "Warning: Maximum number of iterations has been exceeded.\n",
      "execution time: 57.932862583000315 s\n",
      "training error: 0.13713913807140768\n",
      "\n",
      " 10:\n",
      "Warning: Maximum number of iterations has been exceeded.\n",
      "execution time: 53.59661654199954 s\n",
      "training error: 0.15601026283256866\n",
      "\n",
      " 11:\n",
      "Warning: Maximum number of iterations has been exceeded.\n",
      "execution time: 55.90770274999977 s\n",
      "training error: 0.24770290954783977\n",
      "\n",
      " 12:\n",
      "Warning: Maximum number of iterations has been exceeded.\n",
      "execution time: 56.97953612499987 s\n",
      "training error: 0.06036669721164193\n",
      "\n",
      " 13:\n",
      "Warning: Maximum number of iterations has been exceeded.\n",
      "execution time: 54.40420895900024 s\n",
      "training error: 0.06929944172802682\n",
      "\n",
      " 14:\n",
      "Warning: Maximum number of iterations has been exceeded.\n",
      "execution time: 55.57750049999959 s\n",
      "training error: 0.08640558215767867\n",
      "\n",
      " 15:\n",
      "Warning: Maximum number of iterations has been exceeded.\n",
      "execution time: 56.60083095899972 s\n",
      "training error: 0.09792962753040435\n",
      "\n",
      " 16:\n",
      "Warning: Maximum number of iterations has been exceeded.\n",
      "execution time: 53.28411133300051 s\n",
      "training error: 0.08159379468540982\n",
      "\n",
      " 17:\n",
      "Warning: Maximum number of iterations has been exceeded.\n",
      "execution time: 50.92190862500047 s\n",
      "training error: 0.10491820471252246\n",
      "\n",
      " 18:\n",
      "Warning: Maximum number of iterations has been exceeded.\n",
      "execution time: 56.363250041000356 s\n",
      "training error: 0.0734992470731211\n",
      "\n",
      " 19:\n",
      "Warning: Maximum number of iterations has been exceeded.\n",
      "execution time: 56.76370237499941 s\n",
      "training error: 0.14507031738592743\n"
     ]
    }
   ],
   "source": [
    "errors = []\n",
    "for i in range(20):\n",
    "    print(f'\\n {i}:')\n",
    "    nn = NNBuilder\\\n",
    "        .with_input(7*5)\\\n",
    "        .with_hidden_layer(20,activation,derivative)\\\n",
    "        .with_hidden_layer(10,activation,derivative)\\\n",
    "        .with_hidden_layer(2,activation,derivative)\\\n",
    "        .with_hidden_layer(10,activation,derivative)\\\n",
    "        .with_hidden_layer(20,activation,derivative)\\\n",
    "        .with_output_layer(7*5,activation,derivative)\n",
    "    np.random.shuffle(fonts)\n",
    "    idx = math.floor(font_count * 0.5)\n",
    "    idx=5\n",
    "    training, test = np.array(fonts[:idx]), np.array(fonts[idx:])\n",
    "    mutate_training = create_noise(training,0.1)\n",
    "\n",
    "    t0 = perf_counter()\n",
    "    training_errors, ws = nn.train_on_dataset(mutate_training, training, 10)\n",
    "    tf = perf_counter()\n",
    "    print(f'execution time: {tf-t0} s')\n",
    "    print(f\"training error: {training_errors}\")\n",
    "    errors.append(training_errors)"
   ],
   "metadata": {
    "collapsed": false,
    "pycharm": {
     "name": "#%%\n"
    }
   }
  },
  {
   "cell_type": "code",
   "execution_count": 128,
   "outputs": [
    {
     "name": "stdout",
     "output_type": "stream",
     "text": [
      "errors: [0.09901865907086098, 0.19348075599630715, 0.11483140102670542, 0.17625849423567094, 0.11426747933708514, 0.03017355793703716, 0.14015109266377648, 0.0258419333375745, 0.1181469459848495, 0.13713913807140768, 0.15601026283256866, 0.24770290954783977, 0.06036669721164193, 0.06929944172802682, 0.08640558215767867, 0.09792962753040435, 0.08159379468540982, 0.10491820471252246, 0.0734992470731211, 0.14507031738592743]\n",
      "avg: 0.11360527712632078\n",
      "min: 0.0258419333375745\n",
      "max: 0.24770290954783977\n"
     ]
    }
   ],
   "source": [
    "print(f'errors: {errors}')\n",
    "print(f'avg: {np.average(errors)}')\n",
    "print(f'min: {np.min(errors)}')\n",
    "print(f'max: {np.max(errors)}')"
   ],
   "metadata": {
    "collapsed": false,
    "pycharm": {
     "name": "#%%\n"
    }
   }
  },
  {
   "cell_type": "code",
   "execution_count": null,
   "outputs": [],
   "source": [],
   "metadata": {
    "collapsed": false,
    "pycharm": {
     "name": "#%%\n"
    }
   }
  }
 ],
 "metadata": {
  "kernelspec": {
   "display_name": "Python 3",
   "language": "python",
   "name": "python3"
  },
  "language_info": {
   "codemirror_mode": {
    "name": "ipython",
    "version": 2
   },
   "file_extension": ".py",
   "mimetype": "text/x-python",
   "name": "python",
   "nbconvert_exporter": "python",
   "pygments_lexer": "ipython2",
   "version": "2.7.6"
  }
 },
 "nbformat": 4,
 "nbformat_minor": 0
}
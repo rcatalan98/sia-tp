{
 "cells": [
  {
   "cell_type": "code",
   "execution_count": 1,
   "metadata": {
    "collapsed": true
   },
   "outputs": [],
   "source": [
    "%config InlineBackend.figure_format = 'retina'\n",
    "%load_ext autoreload\n",
    "%autoreload 2\n",
    "from test_fonts import *\n",
    "from NeuralNetwork import  *"
   ]
  },
  {
   "cell_type": "markdown",
   "source": [
    "## Loading Dataset"
   ],
   "metadata": {
    "collapsed": false,
    "pycharm": {
     "name": "#%% md\n"
    }
   }
  },
  {
   "cell_type": "code",
   "execution_count": 2,
   "outputs": [
    {
     "data": {
      "text/plain": "32"
     },
     "execution_count": 2,
     "metadata": {},
     "output_type": "execute_result"
    }
   ],
   "source": [
    "fonts = get_all_fonts(1,True)\n",
    "font_count = len(fonts)\n",
    "font_count"
   ],
   "metadata": {
    "collapsed": false,
    "pycharm": {
     "name": "#%%\n"
    }
   }
  },
  {
   "cell_type": "markdown",
   "source": [
    "## Creating Autoencoder"
   ],
   "metadata": {
    "collapsed": false
   }
  },
  {
   "cell_type": "code",
   "execution_count": 37,
   "outputs": [],
   "source": [
    "beta = 0.5\n",
    "\n",
    "sigmoid = lambda e: 1 / (1 + np.exp(-e * 2 * beta))\n",
    "sigmoid_derived = lambda e: 2 * beta * sigmoid(e) * (1 - sigmoid(e))\n",
    "\n",
    "tanh = lambda e: math.tanh(e)\n",
    "tanh_derived = lambda  e: 1- math.tanh(e)**2\n",
    "\n",
    "\n",
    "\n",
    "def activation(e):\n",
    "    return tanh(e)\n",
    "\n",
    "def derivative(e):\n",
    "    return tanh_derived(e)\n",
    "\n",
    "\n"
   ],
   "metadata": {
    "collapsed": false,
    "pycharm": {
     "name": "#%%\n"
    }
   }
  },
  {
   "cell_type": "markdown",
   "source": [
    "## Generating training dataset"
   ],
   "metadata": {
    "collapsed": false
   }
  },
  {
   "cell_type": "code",
   "execution_count": 45,
   "outputs": [],
   "source": [
    "nn = NNBuilder\\\n",
    "    .with_input(7*5)\\\n",
    "    .with_hidden_layer(30,activation,derivative)\\\n",
    "    .with_hidden_layer(20,activation,derivative)\\\n",
    "    .with_hidden_layer(10,activation,derivative)\\\n",
    "    .with_hidden_layer(2,activation,derivative)\\\n",
    "    .with_hidden_layer(10,activation,derivative)\\\n",
    "    .with_hidden_layer(20,activation,derivative)\\\n",
    "    .with_hidden_layer(30,activation,derivative)\\\n",
    "    .with_output_layer(7*5,activation,derivative)\n",
    "np.random.shuffle(fonts)\n",
    "idx = math.floor(font_count * 0.5)\n",
    "training, test = np.array(fonts[:idx]), np.array(fonts[idx:])"
   ],
   "metadata": {
    "collapsed": false,
    "pycharm": {
     "name": "#%%\n"
    }
   }
  },
  {
   "cell_type": "markdown",
   "source": [],
   "metadata": {
    "collapsed": false
   }
  },
  {
   "cell_type": "code",
   "execution_count": null,
   "outputs": [
    {
     "name": "stdout",
     "output_type": "stream",
     "text": [
      "ITERATION 1\n",
      "ITERATION 2\n",
      "ITERATION 3\n",
      "ITERATION 4\n",
      "ITERATION 5\n",
      "ITERATION 6\n",
      "ITERATION 7\n",
      "ITERATION 8\n"
     ]
    }
   ],
   "source": [
    "training_errors, ws = nn.train_on_dataset(training,training)"
   ],
   "metadata": {
    "collapsed": false,
    "pycharm": {
     "name": "#%%\n",
     "is_executing": true
    }
   }
  },
  {
   "cell_type": "code",
   "execution_count": 40,
   "outputs": [
    {
     "name": "stdout",
     "output_type": "stream",
     "text": [
      "training error: 0.5961716770235712\n"
     ]
    }
   ],
   "source": [
    "print(f\"training error: {training_errors}\")\n",
    "# print(f\"testing error: {nn.get_error_on_dataset(test, test)}\")"
   ],
   "metadata": {
    "collapsed": false,
    "pycharm": {
     "name": "#%%\n"
    }
   }
  },
  {
   "cell_type": "code",
   "execution_count": 43,
   "outputs": [
    {
     "data": {
      "text/plain": "<Figure size 432x288 with 1 Axes>",
      "image/png": "[encoded data removed]"
     },
     "metadata": {
      "image/png": {
       "width": 186,
       "height": 248
      },
      "needs_background": "light"
     },
     "output_type": "display_data"
    }
   ],
   "source": [
    "aa = training[2]\n",
    "value = nn.feed_forward(aa)\n",
    "\n",
    "print_character(aa.reshape(7,5))"
   ],
   "metadata": {
    "collapsed": false,
    "pycharm": {
     "name": "#%%\n"
    }
   }
  },
  {
   "cell_type": "code",
   "execution_count": 44,
   "outputs": [
    {
     "data": {
      "text/plain": "<Figure size 432x288 with 1 Axes>",
      "image/png": "[encoded data removed]"
     },
     "metadata": {
      "image/png": {
       "width": 186,
       "height": 248
      },
      "needs_background": "light"
     },
     "output_type": "display_data"
    }
   ],
   "source": [
    "print_character(value.reshape(7,5))"
   ],
   "metadata": {
    "collapsed": false,
    "pycharm": {
     "name": "#%%\n"
    }
   }
  },
  {
   "cell_type": "code",
   "execution_count": null,
   "outputs": [],
   "source": [],
   "metadata": {
    "collapsed": false,
    "pycharm": {
     "name": "#%%\n"
    }
   }
  }
 ],
 "metadata": {
  "kernelspec": {
   "display_name": "Python 3",
   "language": "python",
   "name": "python3"
  },
  "language_info": {
   "codemirror_mode": {
    "name": "ipython",
    "version": 2
   },
   "file_extension": ".py",
   "mimetype": "text/x-python",
   "name": "python",
   "nbconvert_exporter": "python",
   "pygments_lexer": "ipython2",
   "version": "2.7.6"
  }
 },
 "nbformat": 4,
 "nbformat_minor": 0
}
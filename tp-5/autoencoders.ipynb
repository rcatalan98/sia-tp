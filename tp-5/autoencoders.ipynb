{
 "cells": [
  {
   "cell_type": "code",
   "execution_count": 1,
   "metadata": {
    "collapsed": true
   },
   "outputs": [],
   "source": [
    "%config InlineBackend.figure_format = 'retina'\n",
    "%load_ext autoreload\n",
    "%autoreload 2\n",
    "from test_fonts import *\n",
    "from NeuralNetwork import  *\n",
    "from time import perf_counter\n",
    "import plots"
   ]
  },
  {
   "cell_type": "markdown",
   "source": [
    "## Loading Dataset"
   ],
   "metadata": {
    "collapsed": false,
    "pycharm": {
     "name": "#%% md\n"
    }
   }
  },
  {
   "cell_type": "code",
   "execution_count": 2,
   "outputs": [
    {
     "data": {
      "text/plain": "5"
     },
     "execution_count": 2,
     "metadata": {},
     "output_type": "execute_result"
    }
   ],
   "source": [
    "fonts = get_all_fonts(2,True)\n",
    "font_count = len(fonts)\n",
    "font_count"
   ],
   "metadata": {
    "collapsed": false,
    "pycharm": {
     "name": "#%%\n"
    }
   }
  },
  {
   "cell_type": "markdown",
   "source": [
    "## Creating Autoencoder"
   ],
   "metadata": {
    "collapsed": false
   }
  },
  {
   "cell_type": "code",
   "execution_count": 3,
   "outputs": [],
   "source": [
    "beta = 0.5\n",
    "\n",
    "sigmoid = lambda e: 1 / (1 + np.exp(-e * 2 * beta))\n",
    "sigmoid_derived = lambda e: 2 * beta * sigmoid(e) * (1 - sigmoid(e))\n",
    "\n",
    "tanh = lambda e: math.tanh(e)\n",
    "tanh_derived = lambda  e: 1- math.tanh(e)**2\n",
    "\n",
    "\n",
    "\n",
    "def activation(e):\n",
    "    return tanh(e)\n",
    "\n",
    "def derivative(e):\n",
    "    return tanh_derived(e)\n",
    "\n",
    "\n"
   ],
   "metadata": {
    "collapsed": false,
    "pycharm": {
     "name": "#%%\n"
    }
   }
  },
  {
   "cell_type": "markdown",
   "source": [
    "## Generating training dataset"
   ],
   "metadata": {
    "collapsed": false
   }
  },
  {
   "cell_type": "code",
   "execution_count": 146,
   "outputs": [
    {
     "name": "stdout",
     "output_type": "stream",
     "text": [
      "\n",
      " 0:\n",
      "ITERATION 1\n",
      "ITERATION 2\n",
      "ITERATION 3\n",
      "ITERATION 4\n",
      "ITERATION 5\n",
      "ITERATION 6\n",
      "ITERATION 7\n",
      "ITERATION 8\n",
      "ITERATION 9\n",
      "ITERATION 10\n",
      "ITERATION 11\n",
      "ITERATION 12\n",
      "ITERATION 13\n",
      "ITERATION 14\n",
      "ITERATION 15\n",
      "ITERATION 16\n",
      "ITERATION 17\n",
      "ITERATION 18\n",
      "ITERATION 19\n",
      "ITERATION 20\n",
      "ITERATION 21\n",
      "ITERATION 22\n",
      "ITERATION 23\n",
      "ITERATION 24\n",
      "ITERATION 25\n",
      "ITERATION 26\n",
      "ITERATION 27\n",
      "ITERATION 28\n",
      "ITERATION 29\n",
      "ITERATION 30\n",
      "ITERATION 31\n",
      "ITERATION 32\n",
      "ITERATION 33\n",
      "ITERATION 34\n",
      "ITERATION 35\n",
      "ITERATION 36\n",
      "ITERATION 37\n",
      "ITERATION 38\n",
      "ITERATION 39\n",
      "ITERATION 40\n",
      "ITERATION 41\n",
      "ITERATION 42\n",
      "ITERATION 43\n",
      "ITERATION 44\n",
      "ITERATION 45\n",
      "ITERATION 46\n",
      "ITERATION 47\n",
      "ITERATION 48\n",
      "ITERATION 49\n",
      "ITERATION 50\n",
      "ITERATION 51\n",
      "ITERATION 52\n",
      "Optimization terminated successfully.\n",
      "         Current function value: 0.014379\n",
      "         Iterations: 52\n",
      "         Function evaluations: 1398842\n",
      "execution time: 1052.660505400001 s\n",
      "training error: 0.014379320818354403\n"
     ]
    }
   ],
   "source": [
    "errors = []\n",
    "for i in range(1):\n",
    "    print(f'\\n {i}:')\n",
    "    nn = NNBuilder\\\n",
    "        .with_input(7*5)\\\n",
    "        .with_hidden_layer(20,activation,derivative)\\\n",
    "        .with_hidden_layer(10,activation,derivative)\\\n",
    "        .with_hidden_layer(2,activation,derivative)\\\n",
    "        .with_hidden_layer(10,activation,derivative)\\\n",
    "        .with_hidden_layer(20,activation,derivative)\\\n",
    "        .with_output_layer(7*5,activation,derivative)\n",
    "    # np.random.shuffle(fonts)\n",
    "    # idx = math.floor(font_count * 0.5)\n",
    "    idx=5\n",
    "    training, test = np.array(fonts[:idx]), np.array(fonts[idx:])\n",
    "\n",
    "    t0 = perf_counter()\n",
    "    training_errors, ws = nn.train_on_dataset(training, training, 100)\n",
    "    tf = perf_counter()\n",
    "    print(f'execution time: {tf-t0} s')\n",
    "    print(f\"training error: {training_errors}\")\n",
    "    errors.append(training_errors)"
   ],
   "metadata": {
    "collapsed": false,
    "pycharm": {
     "name": "#%%\n"
    }
   }
  },
  {
   "cell_type": "code",
   "execution_count": 95,
   "outputs": [
    {
     "name": "stdout",
     "output_type": "stream",
     "text": [
      "errors: [0.2161, 0.0563, 0.0751, 0.0693, 0.0605, 0.1216, 0.1204, 0.0735, 0.0757, 0.102, 0.0068, 0.2235, 0.1265, 0.088, 0.0945, 0.1454, 0.0718, 0.0841, 0.0766, 0.0454]\n",
      "avg: 0.0967\n",
      "min: 0.0068\n",
      "max: 0.2235\n"
     ]
    }
   ],
   "source": [
    "errors = [round(e, 4) for e in errors]\n",
    "print(f'errors: {errors}')\n",
    "print(f'avg: {format(np.average(errors), \".4f\")}')\n",
    "print(f'min: {format(np.min(errors), \".4f\")}')\n",
    "print(f'max: {format(np.max(errors), \".4f\")}')"
   ],
   "metadata": {
    "collapsed": false,
    "pycharm": {
     "name": "#%%\n"
    }
   }
  },
  {
   "cell_type": "markdown",
   "source": [],
   "metadata": {
    "collapsed": false
   }
  },
  {
   "cell_type": "code",
   "execution_count": 115,
   "outputs": [
    {
     "name": "stdout",
     "output_type": "stream",
     "text": [
      "ITERATION 47\n",
      "Optimization terminated successfully.\n",
      "         Current function value: 0.014380\n",
      "         Iterations: 1\n",
      "         Function evaluations: 26416\n",
      "execution time: 21.701062099999945 s\n",
      "training error: 0.014380307818925612\n"
     ]
    }
   ],
   "source": [
    "# para agregar seguir iterando sin resetear la red (a chequear)\n",
    "t0 = perf_counter()\n",
    "training_errors, ws = nn.train_on_dataset(training, training, 20)\n",
    "tf = perf_counter()\n",
    "print(f'execution time: {tf-t0} s')\n",
    "print(f\"training error: {training_errors}\")\n",
    "# print(f\"testing error: {nn.get_error_on_dataset(test, test)}\")"
   ],
   "metadata": {
    "collapsed": false,
    "pycharm": {
     "name": "#%%\n"
    }
   }
  },
  {
   "cell_type": "code",
   "execution_count": 147,
   "outputs": [
    {
     "data": {
      "text/plain": "<Figure size 432x288 with 1 Axes>",
      "image/png": "[encoded data removed]"
     },
     "metadata": {
      "image/png": {
       "width": 424,
       "height": 279
      },
      "needs_background": "light"
     },
     "output_type": "display_data"
    }
   ],
   "source": [
    "labels = [\"@\", \"C\", \"G\", \"O\", \"Q\"]\n",
    "\n",
    "outputs = []\n",
    "latent_space_list = []\n",
    "latent_space_layer = int(np.ceil(nn.layer_count / 2))\n",
    "\n",
    "for font in training:\n",
    "    layers_outputs = nn.feed_forward(font)\n",
    "    outputs.append(layers_outputs[-1])\n",
    "    latent_space_list.append(layers_outputs[latent_space_layer])\n",
    "\n",
    "    # print(print_character(font.reshape(7, 5)))\n",
    "    # print(print_character(layers_outputs[-1].reshape(7, 5)))\n",
    "\n",
    "plots.plot_latent_space(latent_space_list, labels)"
   ],
   "metadata": {
    "collapsed": false,
    "pycharm": {
     "name": "#%%\n"
    }
   }
  },
  {
   "cell_type": "code",
   "execution_count": 188,
   "outputs": [
    {
     "name": "stdout",
     "output_type": "stream",
     "text": [
      "[-0.09926793  0.09652872]\n",
      "[0.05446701 0.40542111]\n",
      "[0.00768675 0.01544462]\n"
     ]
    }
   ],
   "source": [
    "g = latent_space_list[2]\n",
    "at = latent_space_list[0]\n",
    "step_qty = 20\n",
    "\n",
    "step = np.subtract(at, g) / step_qty\n",
    "\n",
    "print(g)\n",
    "print(at)\n",
    "print(step)\n",
    "\n",
    "points = [at]\n",
    "characters = []\n",
    "\n",
    "for i in range(step_qty):\n",
    "    input = (g[0] + step[0] * i, g[1] + step[1] * i)\n",
    "    characters.append(nn.feed_forward(input, encode=False)[-1])\n",
    "    points.append(input)"
   ],
   "metadata": {
    "collapsed": false,
    "pycharm": {
     "name": "#%%\n"
    }
   }
  },
  {
   "cell_type": "code",
   "execution_count": 203,
   "outputs": [
    {
     "data": {
      "text/plain": "<Figure size 432x288 with 1 Axes>",
      "image/png": "[encoded data removed]"
     },
     "metadata": {
      "image/png": {
       "width": 186,
       "height": 248
      },
      "needs_background": "light"
     },
     "output_type": "display_data"
    }
   ],
   "source": [
    "print_character(characters[10].reshape(7,5))"
   ],
   "metadata": {
    "collapsed": false,
    "pycharm": {
     "name": "#%%\n"
    }
   }
  },
  {
   "cell_type": "code",
   "execution_count": 189,
   "outputs": [
    {
     "data": {
      "text/plain": "<Figure size 432x288 with 1 Axes>",
      "image/png": "[encoded data removed]"
     },
     "metadata": {
      "image/png": {
       "width": 424,
       "height": 280
      },
      "needs_background": "light"
     },
     "output_type": "display_data"
    }
   ],
   "source": [
    "x = []\n",
    "y = []\n",
    "\n",
    "for ls in points:\n",
    "    x.append(ls[0])\n",
    "    y.append(ls[1])\n",
    "\n",
    "plt.scatter(x, y)\n",
    "plt.scatter(g[0], g[1], color='red')\n",
    "plt.scatter(at[0], at[1], color='green')\n",
    "\n",
    "plt.tight_layout()\n",
    "plt.show()"
   ],
   "metadata": {
    "collapsed": false,
    "pycharm": {
     "name": "#%%\n"
    }
   }
  },
  {
   "cell_type": "code",
   "execution_count": 131,
   "outputs": [
    {
     "name": "stdout",
     "output_type": "stream",
     "text": [
      "None\n"
     ]
    },
    {
     "data": {
      "text/plain": "<Figure size 432x288 with 1 Axes>",
      "image/png": "[encoded data removed]"
     },
     "metadata": {
      "image/png": {
       "width": 186,
       "height": 248
      },
      "needs_background": "light"
     },
     "output_type": "display_data"
    }
   ],
   "source": [
    "aa = training[0]\n",
    "value = nn.feed_forward(aa)[-1]\n",
    "print(print_character(aa.reshape(7,5)))"
   ],
   "metadata": {
    "collapsed": false,
    "pycharm": {
     "name": "#%%\n"
    }
   }
  },
  {
   "cell_type": "code",
   "execution_count": 132,
   "outputs": [
    {
     "data": {
      "text/plain": "<Figure size 432x288 with 1 Axes>",
      "image/png": "[encoded data removed]"
     },
     "metadata": {
      "image/png": {
       "width": 186,
       "height": 248
      },
      "needs_background": "light"
     },
     "output_type": "display_data"
    }
   ],
   "source": [
    "print_character(value.reshape(7,5))"
   ],
   "metadata": {
    "collapsed": false,
    "pycharm": {
     "name": "#%%\n"
    }
   }
  },
  {
   "cell_type": "code",
   "execution_count": null,
   "outputs": [],
   "source": [],
   "metadata": {
    "collapsed": false,
    "pycharm": {
     "name": "#%%\n"
    }
   }
  }
 ],
 "metadata": {
  "kernelspec": {
   "display_name": "Python 3",
   "language": "python",
   "name": "python3"
  },
  "language_info": {
   "codemirror_mode": {
    "name": "ipython",
    "version": 2
   },
   "file_extension": ".py",
   "mimetype": "text/x-python",
   "name": "python",
   "nbconvert_exporter": "python",
   "pygments_lexer": "ipython2",
   "version": "2.7.6"
  }
 },
 "nbformat": 4,
 "nbformat_minor": 0
}
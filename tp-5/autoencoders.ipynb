{
 "cells": [
  {
   "cell_type": "code",
   "execution_count": 174,
   "metadata": {
    "collapsed": true
   },
   "outputs": [
    {
     "name": "stdout",
     "output_type": "stream",
     "text": [
      "The autoreload extension is already loaded. To reload it, use:\n",
      "  %reload_ext autoreload\n"
     ]
    }
   ],
   "source": [
    "%config InlineBackend.figure_format = 'retina'\n",
    "%load_ext autoreload\n",
    "%autoreload 2\n",
    "from test_fonts import *\n",
    "from NeuralNetwork import  *"
   ]
  },
  {
   "cell_type": "markdown",
   "source": [
    "## Loading Dataset"
   ],
   "metadata": {
    "collapsed": false,
    "pycharm": {
     "name": "#%% md\n"
    }
   }
  },
  {
   "cell_type": "code",
   "execution_count": 175,
   "outputs": [
    {
     "data": {
      "text/plain": "32"
     },
     "execution_count": 175,
     "metadata": {},
     "output_type": "execute_result"
    }
   ],
   "source": [
    "fonts = get_all_fonts(1,True)\n",
    "font_count = len(fonts)\n",
    "font_count"
   ],
   "metadata": {
    "collapsed": false,
    "pycharm": {
     "name": "#%%\n"
    }
   }
  },
  {
   "cell_type": "markdown",
   "source": [
    "## Creating Autoencoder"
   ],
   "metadata": {
    "collapsed": false
   }
  },
  {
   "cell_type": "code",
   "execution_count": 176,
   "outputs": [],
   "source": [
    "beta = 0.5\n",
    "\n",
    "sigmoid = lambda e: 1 / (1 + np.exp(-e * 2 * beta))\n",
    "sigmoid_derived = lambda e: 2 * beta * sigmoid(e) * (1 - sigmoid(e))\n",
    "\n",
    "tanh = lambda e: math.tanh(e)\n",
    "tanh_derived = lambda  e: 1- math.tanh(e)**2\n",
    "\n",
    "\n",
    "\n",
    "def activation(e):\n",
    "    return tanh(e)\n",
    "\n",
    "def derivative(e):\n",
    "    return tanh_derived(e)\n",
    "\n",
    "\n",
    "nn = NNBuilder\\\n",
    "    .with_input(7*5)\\\n",
    "    .with_hidden_layer(30,activation,derivative)\\\n",
    "    .with_hidden_layer(20,activation,derivative)\\\n",
    "    .with_hidden_layer(10,activation,derivative)\\\n",
    "    .with_hidden_layer(2,activation,derivative)\\\n",
    "    .with_hidden_layer(10,activation,derivative)\\\n",
    "    .with_hidden_layer(20,activation,derivative)\\\n",
    "    .with_hidden_layer(30,activation,derivative)\\\n",
    "    .with_output_layer(7*5,activation,derivative)"
   ],
   "metadata": {
    "collapsed": false,
    "pycharm": {
     "name": "#%%\n"
    }
   }
  },
  {
   "cell_type": "markdown",
   "source": [
    "## Generating training dataset"
   ],
   "metadata": {
    "collapsed": false
   }
  },
  {
   "cell_type": "code",
   "execution_count": 177,
   "outputs": [],
   "source": [
    "np.random.shuffle(fonts)\n",
    "idx = math.floor(font_count * .8)\n",
    "training, test = np.array(fonts[:idx]), np.array(fonts[idx:])"
   ],
   "metadata": {
    "collapsed": false,
    "pycharm": {
     "name": "#%%\n"
    }
   }
  },
  {
   "cell_type": "markdown",
   "source": [],
   "metadata": {
    "collapsed": false
   }
  },
  {
   "cell_type": "code",
   "execution_count": 178,
   "outputs": [
    {
     "ename": "KeyboardInterrupt",
     "evalue": "",
     "output_type": "error",
     "traceback": [
      "\u001B[0;31m---------------------------------------------------------------------------\u001B[0m",
      "\u001B[0;31mKeyboardInterrupt\u001B[0m                         Traceback (most recent call last)",
      "Input \u001B[0;32mIn [178]\u001B[0m, in \u001B[0;36m<cell line: 1>\u001B[0;34m()\u001B[0m\n\u001B[0;32m----> 1\u001B[0m training_errors, ws, bs \u001B[38;5;241m=\u001B[39m \u001B[43mnn\u001B[49m\u001B[38;5;241;43m.\u001B[39;49m\u001B[43mtrain_on_dataset\u001B[49m\u001B[43m(\u001B[49m\u001B[43mtraining\u001B[49m\u001B[43m,\u001B[49m\u001B[43mtraining\u001B[49m\u001B[43m,\u001B[49m\u001B[38;5;241;43m90000\u001B[39;49m\u001B[43m,\u001B[49m\u001B[38;5;241;43m0.0001\u001B[39;49m\u001B[43m)\u001B[49m\n",
      "File \u001B[0;32m~/dev/sia/tp-5/NeuralNetwork.py:136\u001B[0m, in \u001B[0;36mNeuralNetwork.train_on_dataset\u001B[0;34m(self, dataset, expected_results, epochs, learning_rate)\u001B[0m\n\u001B[1;32m    134\u001B[0m \u001B[38;5;28;01mfor\u001B[39;00m _ \u001B[38;5;129;01min\u001B[39;00m \u001B[38;5;28mrange\u001B[39m(epochs):\n\u001B[1;32m    135\u001B[0m     \u001B[38;5;28;01mfor\u001B[39;00m i,data \u001B[38;5;129;01min\u001B[39;00m \u001B[38;5;28menumerate\u001B[39m(dataset):\n\u001B[0;32m--> 136\u001B[0m         (w, b) \u001B[38;5;241m=\u001B[39m \u001B[38;5;28;43mself\u001B[39;49m\u001B[38;5;241;43m.\u001B[39;49m\u001B[43mtrain_on_datapoint\u001B[49m\u001B[43m(\u001B[49m\u001B[43mdata\u001B[49m\u001B[43m,\u001B[49m\u001B[43m \u001B[49m\u001B[43mexpected_results\u001B[49m\u001B[43m[\u001B[49m\u001B[43mi\u001B[49m\u001B[43m]\u001B[49m\u001B[43m,\u001B[49m\u001B[43m \u001B[49m\u001B[43mlearning_rate\u001B[49m\u001B[43m)\u001B[49m\n\u001B[1;32m    137\u001B[0m     errors\u001B[38;5;241m.\u001B[39mappend(\u001B[38;5;28mself\u001B[39m\u001B[38;5;241m.\u001B[39mget_error_on_dataset(dataset, expected_results))\n\u001B[1;32m    138\u001B[0m     ws\u001B[38;5;241m.\u001B[39mappend(copy\u001B[38;5;241m.\u001B[39mdeepcopy(w))\n",
      "File \u001B[0;32m~/dev/sia/tp-5/NeuralNetwork.py:119\u001B[0m, in \u001B[0;36mNeuralNetwork.train_on_datapoint\u001B[0;34m(self, data_point, result, learning_rate)\u001B[0m\n\u001B[1;32m    115\u001B[0m     delta_w \u001B[38;5;241m=\u001B[39m np\u001B[38;5;241m.\u001B[39mdot(gradient, input_for_each_layer[i]\u001B[38;5;241m.\u001B[39mT)\n\u001B[1;32m    117\u001B[0m     delta_w_momentum \u001B[38;5;241m=\u001B[39m \u001B[38;5;241m0.9\u001B[39m \u001B[38;5;241m*\u001B[39m (\u001B[38;5;28mself\u001B[39m\u001B[38;5;241m.\u001B[39mprev_delta[i]\u001B[38;5;28;01mif\u001B[39;00m \u001B[38;5;28mself\u001B[39m\u001B[38;5;241m.\u001B[39mprev_delta[i] \u001B[38;5;129;01mis\u001B[39;00m \u001B[38;5;129;01mnot\u001B[39;00m \u001B[38;5;28;01mNone\u001B[39;00m \u001B[38;5;28;01melse\u001B[39;00m \u001B[38;5;241m0\u001B[39m)\n\u001B[0;32m--> 119\u001B[0m     \u001B[38;5;28mself\u001B[39m\u001B[38;5;241m.\u001B[39mw[i] \u001B[38;5;241m+\u001B[39m\u001B[38;5;241m=\u001B[39m delta_w \u001B[38;5;241m+\u001B[39m delta_w_momentum\n\u001B[1;32m    120\u001B[0m     \u001B[38;5;28mself\u001B[39m\u001B[38;5;241m.\u001B[39mprev_delta[i] \u001B[38;5;241m=\u001B[39m delta_w\n\u001B[1;32m    123\u001B[0m \u001B[38;5;28;01mreturn\u001B[39;00m \u001B[38;5;28mself\u001B[39m\u001B[38;5;241m.\u001B[39mw, \u001B[38;5;28mself\u001B[39m\u001B[38;5;241m.\u001B[39mbias\n",
      "\u001B[0;31mKeyboardInterrupt\u001B[0m: "
     ]
    }
   ],
   "source": [
    "training_errors, ws, bs = nn.train_on_dataset(training,training,90000,0.0001)"
   ],
   "metadata": {
    "collapsed": false,
    "pycharm": {
     "name": "#%%\n"
    }
   }
  },
  {
   "cell_type": "code",
   "execution_count": null,
   "outputs": [],
   "source": [
    "print(f\"training error: {training_errors[-1]}\")\n",
    "print(f\"testing error: {nn.get_error_on_dataset(test, test)}\")"
   ],
   "metadata": {
    "collapsed": false,
    "pycharm": {
     "name": "#%%\n"
    }
   }
  },
  {
   "cell_type": "code",
   "execution_count": null,
   "outputs": [],
   "source": [
    "aa = test[0]\n",
    "value = nn.feed_forward(aa)\n",
    "\n",
    "print_character(aa.reshape(7,5))"
   ],
   "metadata": {
    "collapsed": false,
    "pycharm": {
     "name": "#%%\n"
    }
   }
  },
  {
   "cell_type": "code",
   "execution_count": null,
   "outputs": [],
   "source": [
    "print_character(value.reshape(7,5))"
   ],
   "metadata": {
    "collapsed": false,
    "pycharm": {
     "name": "#%%\n"
    }
   }
  },
  {
   "cell_type": "code",
   "execution_count": null,
   "outputs": [],
   "source": [],
   "metadata": {
    "collapsed": false,
    "pycharm": {
     "name": "#%%\n"
    }
   }
  }
 ],
 "metadata": {
  "kernelspec": {
   "display_name": "Python 3",
   "language": "python",
   "name": "python3"
  },
  "language_info": {
   "codemirror_mode": {
    "name": "ipython",
    "version": 2
   },
   "file_extension": ".py",
   "mimetype": "text/x-python",
   "name": "python",
   "nbconvert_exporter": "python",
   "pygments_lexer": "ipython2",
   "version": "2.7.6"
  }
 },
 "nbformat": 4,
 "nbformat_minor": 0
}
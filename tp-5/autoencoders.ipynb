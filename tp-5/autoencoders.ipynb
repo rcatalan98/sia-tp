{
 "cells": [
  {
   "cell_type": "code",
   "execution_count": 17,
   "metadata": {
    "collapsed": true
   },
   "outputs": [
    {
     "name": "stdout",
     "output_type": "stream",
     "text": [
      "The autoreload extension is already loaded. To reload it, use:\n",
      "  %reload_ext autoreload\n"
     ]
    }
   ],
   "source": [
    "%config InlineBackend.figure_format = 'retina'\n",
    "%load_ext autoreload\n",
    "%autoreload 2\n",
    "from test_fonts import *\n",
    "from NeuralNetwork import  *\n",
    "from time import perf_counter"
   ]
  },
  {
   "cell_type": "markdown",
   "source": [
    "## Loading Dataset"
   ],
   "metadata": {
    "collapsed": false,
    "pycharm": {
     "name": "#%% md\n"
    }
   }
  },
  {
   "cell_type": "code",
   "execution_count": 3,
   "outputs": [
    {
     "data": {
      "text/plain": "32"
     },
     "execution_count": 3,
     "metadata": {},
     "output_type": "execute_result"
    }
   ],
   "source": [
    "fonts = get_all_fonts(1,True)\n",
    "font_count = len(fonts)\n",
    "font_count"
   ],
   "metadata": {
    "collapsed": false,
    "pycharm": {
     "name": "#%%\n"
    }
   }
  },
  {
   "cell_type": "markdown",
   "source": [
    "## Creating Autoencoder"
   ],
   "metadata": {
    "collapsed": false
   }
  },
  {
   "cell_type": "code",
   "execution_count": 4,
   "outputs": [],
   "source": [
    "beta = 0.5\n",
    "\n",
    "sigmoid = lambda e: 1 / (1 + np.exp(-e * 2 * beta))\n",
    "sigmoid_derived = lambda e: 2 * beta * sigmoid(e) * (1 - sigmoid(e))\n",
    "\n",
    "tanh = lambda e: math.tanh(e)\n",
    "tanh_derived = lambda  e: 1- math.tanh(e)**2\n",
    "\n",
    "\n",
    "\n",
    "def activation(e):\n",
    "    return tanh(e)\n",
    "\n",
    "def derivative(e):\n",
    "    return tanh_derived(e)\n",
    "\n",
    "\n"
   ],
   "metadata": {
    "collapsed": false,
    "pycharm": {
     "name": "#%%\n"
    }
   }
  },
  {
   "cell_type": "markdown",
   "source": [
    "## Generating training dataset"
   ],
   "metadata": {
    "collapsed": false
   }
  },
  {
   "cell_type": "code",
   "execution_count": null,
   "outputs": [
    {
     "name": "stdout",
     "output_type": "stream",
     "text": [
      "\n",
      " 0:\n",
      "Warning: Maximum number of iterations has been exceeded.\n",
      "execution time: 184.4201991000009 s\n",
      "training error: 0.11606717213192384\n",
      "\n",
      " 1:\n",
      "Warning: Maximum number of iterations has been exceeded.\n",
      "execution time: 161.542056100001 s\n",
      "training error: 0.14428538029378674\n",
      "\n",
      " 2:\n",
      "Warning: Maximum number of iterations has been exceeded.\n",
      "execution time: 182.11345719999917 s\n",
      "training error: 0.03328621778463448\n",
      "\n",
      " 3:\n",
      "Warning: Maximum number of iterations has been exceeded.\n",
      "execution time: 203.0589820999994 s\n",
      "training error: 0.10691792725349768\n",
      "\n",
      " 4:\n"
     ]
    }
   ],
   "source": [
    "errors = []\n",
    "for i in range(20):\n",
    "    print(f'\\n {i}:')\n",
    "    nn = NNBuilder\\\n",
    "        .with_input(7*5)\\\n",
    "        .with_hidden_layer(20,activation,derivative)\\\n",
    "        .with_hidden_layer(10,activation,derivative)\\\n",
    "        .with_hidden_layer(2,activation,derivative)\\\n",
    "        .with_hidden_layer(10,activation,derivative)\\\n",
    "        .with_hidden_layer(20,activation,derivative)\\\n",
    "        .with_output_layer(7*5,activation,derivative)\n",
    "    np.random.shuffle(fonts)\n",
    "    idx = math.floor(font_count * 0.5)\n",
    "    idx=5\n",
    "    training, test = np.array(fonts[:idx]), np.array(fonts[idx:])\n",
    "\n",
    "    t0 = perf_counter()\n",
    "    training_errors, ws = nn.train_on_dataset(training, training, 10)\n",
    "    tf = perf_counter()\n",
    "    print(f'execution time: {tf-t0} s')\n",
    "    print(f\"training error: {training_errors}\")\n",
    "    errors.append(training_errors)"
   ],
   "metadata": {
    "collapsed": false,
    "pycharm": {
     "name": "#%%\n",
     "is_executing": true
    }
   }
  },
  {
   "cell_type": "code",
   "execution_count": 82,
   "outputs": [
    {
     "name": "stdout",
     "output_type": "stream",
     "text": [
      "errors: [0.088960479086753, 0.09677025041316718, 0.1121517875243648, 0.05738415788116297, 0.12934554474838628, 0.14243036079137697, 0.07117422934113458, 0.08080284171318873, 0.070248552212009, 0.07147187915622143, 0.2180181771802756, 0.17054099329844363, 0.10496709718993125, 0.16936259606408402, 0.24790226981378802, 0.07105783863736911, 0.08408701966071441, 0.04927955453621367, 0.17451841627644554, 0.05981015447799362]\n",
      "avg: 0.11351421000015119\n",
      "min: 0.04927955453621367\n",
      "max: 0.24790226981378802\n"
     ]
    }
   ],
   "source": [
    "print(f'errors: {errors}')\n",
    "print(f'avg: {np.average(errors)}')\n",
    "print(f'min: {np.min(errors)}')\n",
    "print(f'max: {np.max(errors)}')"
   ],
   "metadata": {
    "collapsed": false,
    "pycharm": {
     "name": "#%%\n"
    }
   }
  },
  {
   "cell_type": "markdown",
   "source": [],
   "metadata": {
    "collapsed": false
   }
  },
  {
   "cell_type": "code",
   "execution_count": 75,
   "outputs": [
    {
     "name": "stdout",
     "output_type": "stream",
     "text": [
      "ITERATION 26\n",
      "ITERATION 27\n",
      "ITERATION 28\n",
      "ITERATION 29\n",
      "ITERATION 30\n",
      "Warning: Maximum number of iterations has been exceeded.\n",
      "execution time: 89.5714681999998 s\n",
      "training error: 0.06388125639789648\n"
     ]
    }
   ],
   "source": [
    "# para agregar seguir iterando sin resetear la red (a chequear)\n",
    "t0 = perf_counter()\n",
    "training_errors, ws = nn.train_on_dataset(training, training, 5)\n",
    "tf = perf_counter()\n",
    "print(f'execution time: {tf-t0} s')\n",
    "print(f\"training error: {training_errors}\")\n",
    "# print(f\"testing error: {nn.get_error_on_dataset(test, test)}\")"
   ],
   "metadata": {
    "collapsed": false,
    "pycharm": {
     "name": "#%%\n"
    }
   }
  },
  {
   "cell_type": "code",
   "execution_count": 76,
   "outputs": [
    {
     "name": "stdout",
     "output_type": "stream",
     "text": [
      "None\n",
      "None\n",
      "None\n",
      "None\n",
      "None\n"
     ]
    },
    {
     "data": {
      "text/plain": "<Figure size 432x288 with 1 Axes>",
      "image/png": "[encoded data removed]"
     },
     "metadata": {
      "image/png": {
       "width": 186,
       "height": 248
      },
      "needs_background": "light"
     },
     "output_type": "display_data"
    }
   ],
   "source": [
    "for t in training:\n",
    "    aa = t\n",
    "    value = nn.feed_forward(aa)\n",
    "\n",
    "    print(print_character(aa.reshape(7,5)))"
   ],
   "metadata": {
    "collapsed": false,
    "pycharm": {
     "name": "#%%\n"
    }
   }
  },
  {
   "cell_type": "code",
   "execution_count": 77,
   "outputs": [
    {
     "data": {
      "text/plain": "<Figure size 432x288 with 1 Axes>",
      "image/png": "[encoded data removed]"
     },
     "metadata": {
      "image/png": {
       "width": 186,
       "height": 248
      },
      "needs_background": "light"
     },
     "output_type": "display_data"
    }
   ],
   "source": [
    "print_character(value.reshape(7,5))"
   ],
   "metadata": {
    "collapsed": false,
    "pycharm": {
     "name": "#%%\n"
    }
   }
  },
  {
   "cell_type": "code",
   "execution_count": 9,
   "outputs": [],
   "source": [],
   "metadata": {
    "collapsed": false,
    "pycharm": {
     "name": "#%%\n"
    }
   }
  }
 ],
 "metadata": {
  "kernelspec": {
   "display_name": "Python 3",
   "language": "python",
   "name": "python3"
  },
  "language_info": {
   "codemirror_mode": {
    "name": "ipython",
    "version": 2
   },
   "file_extension": ".py",
   "mimetype": "text/x-python",
   "name": "python",
   "nbconvert_exporter": "python",
   "pygments_lexer": "ipython2",
   "version": "2.7.6"
  }
 },
 "nbformat": 4,
 "nbformat_minor": 0
}
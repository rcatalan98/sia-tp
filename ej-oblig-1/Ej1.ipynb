{
 "cells": [
  {
   "cell_type": "code",
   "execution_count": 70,
   "outputs": [],
   "source": [
    "import math\n",
    "import random\n",
    "from time import perf_counter\n",
    "import numpy as np\n",
    "from scipy import optimize\n",
    "from autograd.misc.optimizers import adam\n",
    "import numdifftools as nd"
   ],
   "metadata": {
    "collapsed": false,
    "pycharm": {
     "name": "#%%\n"
    }
   }
  },
  {
   "cell_type": "code",
   "execution_count": 71,
   "outputs": [],
   "source": [
    "io_values = [[(4.4793, -4.0765, -4.0765), 0], [(-4.1793, -4.9218, 1.7664), 1], [(-3.9429, -0.7689, 4.883), 1]]"
   ],
   "metadata": {
    "collapsed": false,
    "pycharm": {
     "name": "#%%\n"
    }
   }
  },
  {
   "cell_type": "code",
   "execution_count": 72,
   "outputs": [],
   "source": [
    "#g(x) de la consigna\n",
    "def g(x):\n",
    "    try:\n",
    "        return math.exp(x) / (1 + math.exp(x))\n",
    "    except OverflowError:\n",
    "        return 1"
   ],
   "metadata": {
    "collapsed": false,
    "pycharm": {
     "name": "#%%\n"
    }
   }
  },
  {
   "cell_type": "code",
   "execution_count": 73,
   "metadata": {},
   "outputs": [],
   "source": [
    "#Funcion dada por la consigna\n",
    "def F(W, w, w0, E):\n",
    "    return g(sum(\n",
    "        W[j + 1] * g(sum(\n",
    "            w[j][k] * E[k]\n",
    "            for k in range(0, 3)\n",
    "        ) - w0[j])\n",
    "        for j in range(0, 2)\n",
    "    ) - W[0])"
   ]
  },
  {
   "cell_type": "code",
   "execution_count": 74,
   "metadata": {},
   "outputs": [],
   "source": [
    "#Error que se comete\n",
    "def E(W, w, w0):\n",
    "    return sum((OUT - F(W, w, w0, IN)) ** 2 for (IN, OUT) in io_values)"
   ]
  },
  {
   "cell_type": "markdown",
   "source": [],
   "metadata": {
    "collapsed": false
   }
  },
  {
   "cell_type": "code",
   "execution_count": 75,
   "outputs": [],
   "source": [
    "def E2(w,i=None,u=None):\n",
    "    return E(w[:3],np.array([w[3:6],w[6:9]]),w[9:])"
   ],
   "metadata": {
    "collapsed": false,
    "pycharm": {
     "name": "#%%\n"
    }
   }
  },
  {
   "cell_type": "code",
   "execution_count": 76,
   "outputs": [],
   "source": [
    "# x0 = np.array([random.uniform(0,1) for i in range(0,11)])\n",
    "x0 = np.array([0 for i in range(0,11)])"
   ],
   "metadata": {
    "collapsed": false,
    "pycharm": {
     "name": "#%%\n"
    }
   }
  },
  {
   "cell_type": "code",
   "execution_count": 77,
   "outputs": [
    {
     "name": "stdout",
     "output_type": "stream",
     "text": [
      "execution time: 21.81369999971139ms\n",
      "error: 5.141418296604767e-06\n",
      "x: [ 6.33723342  6.61920307  6.61920307 -6.33923132  1.6121689   5.44763473\n",
      " -6.33923132  1.6121689   5.44763473  0.23743733  0.23743733]\n"
     ]
    }
   ],
   "source": [
    "#Gradiente descendiente\n",
    "t0 = perf_counter()\n",
    "result = optimize.minimize(E2,x0=x0,method='L-BFGS-B')\n",
    "tf = perf_counter()\n",
    "print(f'execution time: {(tf-t0)*1000}ms')\n",
    "print(f'error: {result.fun}')\n",
    "print(f'x: {result.x}')"
   ],
   "metadata": {
    "collapsed": false,
    "pycharm": {
     "name": "#%%\n"
    }
   }
  },
  {
   "cell_type": "code",
   "execution_count": 78,
   "outputs": [
    {
     "name": "stdout",
     "output_type": "stream",
     "text": [
      "execution time: 67.80409999964832ms\n",
      "error: 4.720771989600081e-06\n",
      "x: [ 6.14978479  7.12182314  7.12182314 -2.76091069  0.53929397  2.345937\n",
      " -2.76091069  0.53929397  2.345937    0.06283709  0.06283709]\n"
     ]
    }
   ],
   "source": [
    "#Gradientes conjugados\n",
    "t0 = perf_counter()\n",
    "result = optimize.minimize(E2,x0=x0,method='CG')\n",
    "tf = perf_counter()\n",
    "print(f'execution time: {(tf-t0)*1000}ms')\n",
    "print(f'error: {result.fun}')\n",
    "print(f'x: {result.x}')"
   ],
   "metadata": {
    "collapsed": false,
    "pycharm": {
     "name": "#%%\n"
    }
   }
  },
  {
   "cell_type": "code",
   "execution_count": 79,
   "outputs": [
    {
     "name": "stdout",
     "output_type": "stream",
     "text": [
      "execution time: 1720.3463000000738ms\n",
      "error: 4.896332467001788e-06\n",
      "x: [ 6.71560625  6.67608314  6.67608314 -5.08802692  2.77629052  4.76615146\n",
      " -5.08802692  2.77629052  4.76615146  2.77230361  2.77230361]\n"
     ]
    }
   ],
   "source": [
    "#ADAM\n",
    "t0 = perf_counter()\n",
    "\n",
    "result = adam(nd.Gradient(E2),x0,step_size=0.80085)\n",
    "tf = perf_counter()\n",
    "print(f'execution time: {(tf-t0)*1000}ms')\n",
    "print(f'error: {E2(result)}')\n",
    "print(f'x: {result}')"
   ],
   "metadata": {
    "collapsed": false,
    "pycharm": {
     "name": "#%%\n"
    }
   }
  },
  {
   "cell_type": "code",
   "execution_count": 79,
   "outputs": [],
   "source": [],
   "metadata": {
    "collapsed": false,
    "pycharm": {
     "name": "#%%\n"
    }
   }
  }
 ],
 "metadata": {
  "kernelspec": {
   "display_name": "Python 3 (ipykernel)",
   "language": "python",
   "name": "python3"
  },
  "language_info": {
   "codemirror_mode": {
    "name": "ipython",
    "version": 3
   },
   "file_extension": ".py",
   "mimetype": "text/x-python",
   "name": "python",
   "nbconvert_exporter": "python",
   "pygments_lexer": "ipython3",
   "version": "3.8.9"
  }
 },
 "nbformat": 4,
 "nbformat_minor": 1
}
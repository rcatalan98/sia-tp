{
 "cells": [
  {
   "cell_type": "code",
   "execution_count": 259,
   "outputs": [],
   "source": [
    "import math\n",
    "import random\n",
    "from time import perf_counter\n",
    "import matplotlib.pyplot as plt\n",
    "import numpy as np\n",
    "from scipy import optimize\n",
    "from autograd.misc.optimizers import adam\n",
    "import numdifftools as nd"
   ],
   "metadata": {
    "collapsed": false,
    "pycharm": {
     "name": "#%%\n"
    }
   }
  },
  {
   "cell_type": "code",
   "execution_count": 260,
   "outputs": [],
   "source": [
    "io_values = [[(4.4793, -4.0765, -4.0765), 0], [(-4.1793, -4.9218, 1.7664), 1], [(-3.9429, -0.7689, 4.883), 1]]"
   ],
   "metadata": {
    "collapsed": false,
    "pycharm": {
     "name": "#%%\n"
    }
   }
  },
  {
   "cell_type": "code",
   "execution_count": 261,
   "outputs": [],
   "source": [
    "#g(x) de la consigna\n",
    "def g(x):\n",
    "    try:\n",
    "        return math.exp(x) / (1 + math.exp(x))\n",
    "    except OverflowError:\n",
    "        return 1"
   ],
   "metadata": {
    "collapsed": false,
    "pycharm": {
     "name": "#%%\n"
    }
   }
  },
  {
   "cell_type": "code",
   "execution_count": 262,
   "metadata": {},
   "outputs": [],
   "source": [
    "#Funcion dada por la consigna\n",
    "def F(W, w, w0, E):\n",
    "    return g(sum(\n",
    "        W[j + 1] * g(sum(\n",
    "            w[j][k] * E[k]\n",
    "            for k in range(0, 3)\n",
    "        ) - w0[j])\n",
    "        for j in range(0, 2)\n",
    "    ) - W[0])"
   ]
  },
  {
   "cell_type": "code",
   "execution_count": 263,
   "metadata": {},
   "outputs": [],
   "source": [
    "#Error que se comete\n",
    "def E(W, w, w0):\n",
    "    return sum((OUT - F(W, w, w0, IN)) ** 2 for (IN, OUT) in io_values)"
   ]
  },
  {
   "cell_type": "markdown",
   "source": [],
   "metadata": {
    "collapsed": false
   }
  },
  {
   "cell_type": "code",
   "execution_count": 264,
   "outputs": [],
   "source": [
    "def E2(w,i=None,u=None):\n",
    "    return E(w[:3],np.array([w[3:6],w[6:9]]),w[9:])"
   ],
   "metadata": {
    "collapsed": false,
    "pycharm": {
     "name": "#%%\n"
    }
   }
  },
  {
   "cell_type": "code",
   "execution_count": 265,
   "outputs": [],
   "source": [
    "def from_x_to_W_w_w0(x):\n",
    "    return x[:3], np.array([x[3:6],x[6:9]]), x[9:]"
   ],
   "metadata": {
    "collapsed": false,
    "pycharm": {
     "name": "#%%\n"
    }
   }
  },
  {
   "cell_type": "code",
   "execution_count": 266,
   "outputs": [],
   "source": [
    "# x0 = np.array([random.uniform(0,1) for i in range(0,11)])\n",
    "x0 = np.array([0 for i in range(0,11)])\n",
    "errors = []\n",
    "execution_times = []\n",
    "W_w_w0 = []"
   ],
   "metadata": {
    "collapsed": false,
    "pycharm": {
     "name": "#%%\n"
    }
   }
  },
  {
   "cell_type": "code",
   "execution_count": 267,
   "outputs": [
    {
     "name": "stdout",
     "output_type": "stream",
     "text": [
      "execution time: 14.945400000215159ms\n",
      "error: 5.141418296604767e-06\n",
      "W: [6.33723342 6.61920307 6.61920307]\n",
      "w: [[-6.33923132  1.6121689   5.44763473]\n",
      " [-6.33923132  1.6121689   5.44763473]]\n",
      "w0: [0.23743733 0.23743733]\n"
     ]
    }
   ],
   "source": [
    "#Gradiente descendiente\n",
    "t0 = perf_counter()\n",
    "result = optimize.minimize(E2,x0=x0,method='L-BFGS-B')\n",
    "tf = perf_counter()\n",
    "\n",
    "W, w, w0 = from_x_to_W_w_w0(result.x)\n",
    "errors.append(result.fun)\n",
    "execution_times.append((tf-t0)*1000)\n",
    "W_w_w0.append((W, w, w0))\n",
    "\n",
    "print(f'execution time: {(tf-t0)*1000}ms')\n",
    "print(f'error: {result.fun}')\n",
    "print(f'W: {W}\\nw: {w}\\nw0: {w0}')"
   ],
   "metadata": {
    "collapsed": false,
    "pycharm": {
     "name": "#%%\n"
    }
   }
  },
  {
   "cell_type": "code",
   "execution_count": 268,
   "outputs": [
    {
     "name": "stdout",
     "output_type": "stream",
     "text": [
      "execution time: 56.0615999984293ms\n",
      "error: 4.720771989600081e-06\n",
      "W: [6.14978479 7.12182314 7.12182314]\n",
      "w: [[-2.76091069  0.53929397  2.345937  ]\n",
      " [-2.76091069  0.53929397  2.345937  ]]\n",
      "w0: [0.06283709 0.06283709]\n"
     ]
    }
   ],
   "source": [
    "#Gradientes conjugados\n",
    "t0 = perf_counter()\n",
    "result = optimize.minimize(E2,x0=x0,method='CG')\n",
    "tf = perf_counter()\n",
    "\n",
    "W, w, w0 = from_x_to_W_w_w0(result.x)\n",
    "errors.append(result.fun)\n",
    "execution_times.append((tf-t0)*1000)\n",
    "W_w_w0.append((W, w, w0))\n",
    "\n",
    "print(f'execution time: {(tf-t0)*1000}ms')\n",
    "print(f'error: {result.fun}')\n",
    "print(f'W: {W}\\nw: {w}\\nw0: {w0}')"
   ],
   "metadata": {
    "collapsed": false,
    "pycharm": {
     "name": "#%%\n"
    }
   }
  },
  {
   "cell_type": "code",
   "execution_count": 269,
   "outputs": [
    {
     "name": "stdout",
     "output_type": "stream",
     "text": [
      "execution time: 1917.4407999998948ms\n",
      "error: 4.85993187425499e-06\n",
      "W: [6.71950711 6.67986628 6.67986628]\n",
      "w: [[-5.09303014  2.78224065  4.77093454]\n",
      " [-5.09303014  2.78224065  4.77093454]]\n",
      "w0: [2.77913587 2.77913587]\n"
     ]
    }
   ],
   "source": [
    "#ADAM\n",
    "t0 = perf_counter()\n",
    "result = adam(nd.Gradient(E2),x0,step_size=0.80085)\n",
    "tf = perf_counter()\n",
    "\n",
    "W, w, w0 = from_x_to_W_w_w0(result)\n",
    "errors.append(E2(result))\n",
    "execution_times.append((tf-t0)*1000)\n",
    "W_w_w0.append((W, w, w0))\n",
    "\n",
    "print(f'execution time: {(tf-t0)*1000}ms')\n",
    "print(f'error: {E2(result)}')\n",
    "print(f'W: {W}\\nw: {w}\\nw0: {w0}')"
   ],
   "metadata": {
    "collapsed": false,
    "pycharm": {
     "name": "#%%\n"
    }
   }
  },
  {
   "cell_type": "code",
   "execution_count": 270,
   "outputs": [
    {
     "data": {
      "text/plain": "<Figure size 432x288 with 1 Axes>",
      "image/png": "[encoded data removed]"
     },
     "metadata": {
      "needs_background": "light"
     },
     "output_type": "display_data"
    }
   ],
   "source": [
    "# Grafico error\n",
    "labels = ['Descendiente', 'Conjugados', 'ADAM']\n",
    "\n",
    "x = np.arange(len(labels))  # the label locations\n",
    "width = 0.35  # the width of the bars\n",
    "\n",
    "fig, ax = plt.subplots()\n",
    "\n",
    "b = ax.bar(labels, errors, width)\n",
    "\n",
    "# Add some text for labels, title and custom x-axis tick labels, etc.\n",
    "ax.set_ylabel('Error')\n",
    "ax.set_title('Error por método')\n",
    "ax.set_xticks(x, labels)\n",
    "ax.set_ylim(0, max(errors)*1.1)\n",
    "\n",
    "ax.bar_label(b, padding=3)\n",
    "\n",
    "fig.tight_layout()\n",
    "\n",
    "plt.show()"
   ],
   "metadata": {
    "collapsed": false,
    "pycharm": {
     "name": "#%%\n"
    }
   }
  },
  {
   "cell_type": "code",
   "execution_count": 271,
   "outputs": [
    {
     "data": {
      "text/plain": "<Figure size 432x288 with 1 Axes>",
      "image/png": "[encoded data removed]"
     },
     "metadata": {
      "needs_background": "light"
     },
     "output_type": "display_data"
    }
   ],
   "source": [
    "# Grafico tiempos de ejecucion\n",
    "labels = ['Descendiente', 'Conjugados', 'ADAM']\n",
    "\n",
    "x = np.arange(len(labels))  # the label locations\n",
    "width = 0.35  # the width of the bars\n",
    "\n",
    "fig, ax = plt.subplots()\n",
    "\n",
    "b = ax.bar(labels, execution_times, width)\n",
    "\n",
    "# Add some text for labels, title and custom x-axis tick labels, etc.\n",
    "ax.set_ylabel('Tiempo [ms]')\n",
    "ax.set_title('Tiempo de ejecución por método')\n",
    "ax.set_xticks(x, labels)\n",
    "ax.set_ylim(0, max(execution_times)*1.1)\n",
    "\n",
    "ax.bar_label(b, padding=3)\n",
    "\n",
    "fig.tight_layout()\n",
    "\n",
    "plt.show()"
   ],
   "metadata": {
    "collapsed": false,
    "pycharm": {
     "name": "#%%\n"
    }
   }
  },
  {
   "cell_type": "code",
   "execution_count": 272,
   "outputs": [
    {
     "data": {
      "text/plain": "<Figure size 432x288 with 1 Axes>",
      "image/png": "[encoded data removed]"
     },
     "metadata": {
      "needs_background": "light"
     },
     "output_type": "display_data"
    }
   ],
   "source": [
    "labels = ['W0', 'W1', 'W2']\n",
    "W_list = [i[0] for i in W_w_w0]\n",
    "\n",
    "x = np.arange(len(labels))  # the label locations\n",
    "width = 0.25  # the width of the bars\n",
    "\n",
    "fig, ax = plt.subplots()\n",
    "rects1 = ax.bar(x - width, W_list[0], width, label='Descendiente')\n",
    "rects2 = ax.bar(x, W_list[1], width, label='Conjugados')\n",
    "rects3 = ax.bar(x + width, W_list[2], width, label='ADAM')\n",
    "\n",
    "# Add some text for labels, title and custom x-axis tick labels, etc.\n",
    "ax.set_ylabel('Valores')\n",
    "ax.set_title('W por método')\n",
    "ax.set_xticks(x, labels)\n",
    "h,l = ax.get_legend_handles_labels()\n",
    "ax.legend(bbox_to_anchor=(1, 1))\n",
    "\n",
    "# ax.bar_label(rects1, padding=3)\n",
    "# ax.bar_label(rects2, padding=3)\n",
    "# ax.bar_label(rects3, padding=3)\n",
    "\n",
    "fig.tight_layout()\n",
    "\n",
    "plt.show()"
   ],
   "metadata": {
    "collapsed": false,
    "pycharm": {
     "name": "#%%\n"
    }
   }
  },
  {
   "cell_type": "code",
   "execution_count": 272,
   "outputs": [],
   "source": [],
   "metadata": {
    "collapsed": false,
    "pycharm": {
     "name": "#%%\n"
    }
   }
  }
 ],
 "metadata": {
  "kernelspec": {
   "display_name": "Python 3 (ipykernel)",
   "language": "python",
   "name": "python3"
  },
  "language_info": {
   "codemirror_mode": {
    "name": "ipython",
    "version": 3
   },
   "file_extension": ".py",
   "mimetype": "text/x-python",
   "name": "python",
   "nbconvert_exporter": "python",
   "pygments_lexer": "ipython3",
   "version": "3.8.9"
  }
 },
 "nbformat": 4,
 "nbformat_minor": 1
}
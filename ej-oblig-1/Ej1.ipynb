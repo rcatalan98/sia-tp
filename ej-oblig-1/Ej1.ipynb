{
 "cells": [
  {
   "cell_type": "code",
   "execution_count": 159,
   "outputs": [],
   "source": [
    "import math\n",
    "import random\n",
    "from time import perf_counter\n",
    "import numpy as np\n",
    "from scipy import optimize\n",
    "from autograd.misc.optimizers import adam\n",
    "import numdifftools as nd"
   ],
   "metadata": {
    "collapsed": false,
    "pycharm": {
     "name": "#%%\n"
    }
   }
  },
  {
   "cell_type": "code",
   "execution_count": 160,
   "outputs": [],
   "source": [
    "io_values = [[(4.4793, -4.0765, -4.0765), 0], [(-4.1793, -4.9218, 1.7664), 1], [(-3.9429, -0.7689, 4.883), 1]]"
   ],
   "metadata": {
    "collapsed": false,
    "pycharm": {
     "name": "#%%\n"
    }
   }
  },
  {
   "cell_type": "code",
   "execution_count": 161,
   "outputs": [],
   "source": [
    "#g(x) de la consigna\n",
    "def g(x):\n",
    "    try:\n",
    "        return math.exp(x) / (1 + math.exp(x))\n",
    "    except OverflowError:\n",
    "        return 1"
   ],
   "metadata": {
    "collapsed": false,
    "pycharm": {
     "name": "#%%\n"
    }
   }
  },
  {
   "cell_type": "code",
   "execution_count": 162,
   "metadata": {},
   "outputs": [],
   "source": [
    "#Funcion dada por la consigna\n",
    "def F(W, w, w0, E):\n",
    "    return g(sum(\n",
    "        W[j + 1] * g(sum(\n",
    "            w[j][k] * E[k]\n",
    "            for k in range(0, 3)\n",
    "        ) - w0[j])\n",
    "        for j in range(0, 2)\n",
    "    ) - W[0])"
   ]
  },
  {
   "cell_type": "code",
   "execution_count": 163,
   "metadata": {},
   "outputs": [],
   "source": [
    "#Error que se comete\n",
    "def E(W, w, w0):\n",
    "    return sum((OUT - F(W, w, w0, IN)) ** 2 for (IN, OUT) in io_values)"
   ]
  },
  {
   "cell_type": "markdown",
   "source": [],
   "metadata": {
    "collapsed": false
   }
  },
  {
   "cell_type": "code",
   "execution_count": 164,
   "outputs": [],
   "source": [
    "def E2(w,i=None,u=None):\n",
    "    return E(w[:3],np.array([w[3:6],w[6:9]]),w[9:])"
   ],
   "metadata": {
    "collapsed": false,
    "pycharm": {
     "name": "#%%\n"
    }
   }
  },
  {
   "cell_type": "code",
   "execution_count": 165,
   "outputs": [],
   "source": [
    "x0 = np.array([random.uniform(0,1) for i in range(0,11)])"
   ],
   "metadata": {
    "collapsed": false,
    "pycharm": {
     "name": "#%%\n"
    }
   }
  },
  {
   "cell_type": "code",
   "execution_count": 166,
   "outputs": [
    {
     "name": "stdout",
     "output_type": "stream",
     "text": [
      "execution time: 26.02804199887032ms\n",
      "     fun: 6.9125592874431735e-06\n",
      "     jac: array([-3.83064872e-06, -4.98517204e-06, -4.98305900e-06,  1.96109795e-10,\n",
      "       -1.78602022e-10, -1.78602022e-10,  4.42179271e-08,  5.20740855e-08,\n",
      "       -1.86979605e-08, -4.41104930e-11,  1.05749791e-08])\n",
      " message: 'Optimization terminated successfully.'\n",
      "    nfev: 672\n",
      "     nit: 11\n",
      "    njev: 56\n",
      "  status: 0\n",
      " success: True\n",
      "       x: array([ 6.16290464,  7.93479941,  5.02621783, -2.4701351 , -1.76236015,\n",
      "        2.5954534 , -1.43745326,  0.65238204,  2.81740563, -0.17681733,\n",
      "        0.6941991 ])\n"
     ]
    }
   ],
   "source": [
    "#Gradiente conjugados\n",
    "t0 = perf_counter()\n",
    "result = optimize.minimize(E2,x0=x0,method='CG')\n",
    "tf = perf_counter()\n",
    "print(f'execution time: {(tf-t0)*1000}ms')\n",
    "print(result)"
   ],
   "metadata": {
    "collapsed": false,
    "pycharm": {
     "name": "#%%\n"
    }
   }
  },
  {
   "cell_type": "code",
   "execution_count": 167,
   "outputs": [
    {
     "name": "stdout",
     "output_type": "stream",
     "text": [
      "execution time: 5.997457999910694ms\n",
      "      fun: 7.315924572180762e-06\n",
      " hess_inv: <11x11 LbfgsInvHessProduct with dtype=float64>\n",
      "      jac: array([-6.90735213e-06, -3.84784674e-06, -3.84784709e-06,  0.00000000e+00,\n",
      "        0.00000000e+00,  0.00000000e+00,  2.17687469e-11,  2.17687469e-11,\n",
      "        0.00000000e+00,  0.00000000e+00,  0.00000000e+00])\n",
      "  message: 'CONVERGENCE: NORM_OF_PROJECTED_GRADIENT_<=_PGTOL'\n",
      "     nfev: 204\n",
      "      nit: 16\n",
      "     njev: 17\n",
      "   status: 0\n",
      "  success: True\n",
      "        x: array([ 6.06314767,  8.75240477,  4.23641695, -3.38870157, -0.71535723,\n",
      "        4.03339089, -4.07848669,  1.73910561,  4.52770741, -0.14371821,\n",
      "        1.14476626])\n"
     ]
    }
   ],
   "source": [
    "#Gradiente decendiente\n",
    "t0 = perf_counter()\n",
    "result = optimize.minimize(E2,x0=x0,method='L-BFGS-B')\n",
    "tf = perf_counter()\n",
    "print(f'execution time: {(tf-t0)*1000}ms')\n",
    "print(result)"
   ],
   "metadata": {
    "collapsed": false,
    "pycharm": {
     "name": "#%%\n"
    }
   }
  },
  {
   "cell_type": "code",
   "execution_count": 168,
   "outputs": [
    {
     "name": "stdout",
     "output_type": "stream",
     "text": [
      "execution time: 686.868290998973ms\n",
      "[0.08493989 0.64099777 0.77205424 0.4738421  0.26137194 0.73775959\n",
      " 0.76077219 0.59066445 0.39151095 0.21115326 1.04627524]\n"
     ]
    }
   ],
   "source": [
    "#ADAM\n",
    "t0 = perf_counter()\n",
    "\n",
    "result = adam(nd.Gradient(E2),x0,E2)\n",
    "tf = perf_counter()\n",
    "print(f'execution time: {(tf-t0)*1000}ms')\n",
    "print(result)"
   ],
   "metadata": {
    "collapsed": false,
    "pycharm": {
     "name": "#%%\n"
    }
   }
  },
  {
   "cell_type": "code",
   "execution_count": 168,
   "outputs": [],
   "source": [],
   "metadata": {
    "collapsed": false,
    "pycharm": {
     "name": "#%%\n"
    }
   }
  }
 ],
 "metadata": {
  "kernelspec": {
   "display_name": "Python 3 (ipykernel)",
   "language": "python",
   "name": "python3"
  },
  "language_info": {
   "codemirror_mode": {
    "name": "ipython",
    "version": 3
   },
   "file_extension": ".py",
   "mimetype": "text/x-python",
   "name": "python",
   "nbconvert_exporter": "python",
   "pygments_lexer": "ipython3",
   "version": "3.8.9"
  }
 },
 "nbformat": 4,
 "nbformat_minor": 1
}